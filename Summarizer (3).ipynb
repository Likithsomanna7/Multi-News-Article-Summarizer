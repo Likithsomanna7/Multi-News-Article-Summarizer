{
 "cells": [
  {
   "cell_type": "markdown",
   "id": "5fed93e6-9a1e-4c68-bd84-a94b3098bae4",
   "metadata": {},
   "source": [
    "# Data Collection"
   ]
  },
  {
   "cell_type": "code",
   "execution_count": null,
   "id": "29d3f7a2-f6e6-440f-8e4f-0403a017ce6b",
   "metadata": {},
   "outputs": [],
   "source": [
    "import warnings\n",
    "warnings.filterwarnings('ignore')"
   ]
  },
  {
   "cell_type": "code",
   "execution_count": 3,
   "id": "615c33c6-59fe-4831-bea4-90abd6a248e5",
   "metadata": {},
   "outputs": [],
   "source": [
    "import torch\n",
    "torch.cuda.empty_cache()\n",
    "torch.cuda.reset_max_memory_allocated()"
   ]
  },
  {
   "cell_type": "code",
   "execution_count": 4,
   "id": "6f835c9e-eba0-40a2-a925-e634edb172ea",
   "metadata": {},
   "outputs": [],
   "source": [
    "from datasets import load_dataset"
   ]
  },
  {
   "cell_type": "code",
   "execution_count": 5,
   "id": "6769f8dc-102a-4a16-aa4a-9cfa45e75b12",
   "metadata": {},
   "outputs": [
    {
     "name": "stdout",
     "output_type": "stream",
     "text": [
      "DatasetDict({\n",
      "    train: Dataset({\n",
      "        features: ['document', 'summary'],\n",
      "        num_rows: 44972\n",
      "    })\n",
      "    validation: Dataset({\n",
      "        features: ['document', 'summary'],\n",
      "        num_rows: 5622\n",
      "    })\n",
      "    test: Dataset({\n",
      "        features: ['document', 'summary'],\n",
      "        num_rows: 5622\n",
      "    })\n",
      "})\n"
     ]
    }
   ],
   "source": [
    "dataset = load_dataset(\"multi_news\",trust_remote_code=True)\n",
    "print(dataset)"
   ]
  },
  {
   "cell_type": "code",
   "execution_count": 8,
   "id": "2b121c4b-ee54-4526-906d-46b42037a33b",
   "metadata": {},
   "outputs": [
    {
     "data": {
      "text/plain": [
       "{'document': 'National Archives \\n \\n Yes, it’s that time again, folks. It’s the first Friday of the month, when for one ever-so-brief moment the interests of Wall Street, Washington and Main Street are all aligned on one thing: Jobs. \\n \\n A fresh update on the U.S. employment situation for January hits the wires at 8:30 a.m. New York time offering one of the most important snapshots on how the economy fared during the previous month. Expectations are for 203,000 new jobs to be created, according to economists polled by Dow Jones Newswires, compared to 227,000 jobs added in February. The unemployment rate is expected to hold steady at 8.3%. \\n \\n Here at MarketBeat HQ, we’ll be offering color commentary before and after the data crosses the wires. Feel free to weigh-in yourself, via the comments section. And while you’re here, why don’t you sign up to follow us on Twitter. \\n \\n Enjoy the show. ||||| Employers pulled back sharply on hiring last month, a reminder that the U.S. economy may not be growing fast enough to sustain robust job growth. The unemployment rate dipped, but mostly because more Americans stopped looking for work. \\n \\n The Labor Department says the economy added 120,000 jobs in March, down from more than 200,000 in each of the previous three months. \\n \\n The unemployment rate fell to 8.2 percent, the lowest since January 2009. The rate dropped because fewer people searched for jobs. The official unemployment tally only includes those seeking work. \\n \\n The economy has added 858,000 jobs since December _ the best four months of hiring in two years. But Federal Reserve Chairman Ben Bernanke has cautioned that the current hiring pace is unlikely to continue without more consumer spending.',\n",
       " 'summary': '– The unemployment rate dropped to 8.2% last month, but the economy only added 120,000 jobs, when 203,000 new jobs had been predicted, according to today\\'s jobs report. Reaction on the Wall Street Journal\\'s MarketBeat Blog was swift: \"Woah!!! Bad number.\" The unemployment rate, however, is better news; it had been expected to hold steady at 8.3%. But the AP notes that the dip is mostly due to more Americans giving up on seeking employment.'}"
      ]
     },
     "execution_count": 8,
     "metadata": {},
     "output_type": "execute_result"
    }
   ],
   "source": [
    "dataset[\"train\"][0]"
   ]
  },
  {
   "cell_type": "code",
   "execution_count": 11,
   "id": "4c5d7147-4a24-4826-8109-003fd62a5f24",
   "metadata": {},
   "outputs": [
    {
     "data": {
      "text/plain": [
       "{'document': 'GOP Eyes Gains As Voters In 11 States Pick Governors \\n \\n Enlarge this image toggle caption Jim Cole/AP Jim Cole/AP \\n \\n Voters in 11 states will pick their governors tonight, and Republicans appear on track to increase their numbers by at least one, with the potential to extend their hold to more than two-thirds of the nation\\'s top state offices. \\n \\n Eight of the gubernatorial seats up for grabs are now held by Democrats; three are in Republican hands. Republicans currently hold 29 governorships, Democrats have 20, and Rhode Island\\'s Gov. Lincoln Chafee is an Independent. \\n \\n Polls and race analysts suggest that only three of tonight\\'s contests are considered competitive, all in states where incumbent Democratic governors aren\\'t running again: Montana, New Hampshire and Washington. \\n \\n While those state races remain too close to call, Republicans are expected to wrest the North Carolina governorship from Democratic control, and to easily win GOP-held seats in Utah, North Dakota and Indiana. \\n \\n Democrats are likely to hold on to their seats in West Virginia and Missouri, and are expected to notch safe wins in races for seats they hold in Vermont and Delaware. \\n \\n Holding Sway On Health Care \\n \\n While the occupant of the governor\\'s office is historically far less important than the party that controls the state legislature, top state officials in coming years are expected to wield significant influence in at least one major area. \\n \\n And that\\'s health care, says political scientist Thad Kousser, co-author of The Power of American Governors. \\n \\n \"No matter who wins the presidency, national politics is going to be stalemated on the Affordable Care Act,\" says Kousser, of the University of California, San Diego. \\n \\n A recent U.S. Supreme Court decision giving states the ability to opt out of the law\\'s expansion of Medicaid, the federal insurance program for poor, disabled and elderly Americans, confers \"incredible power\" on the states and their governors, Kousser says. \\n \\n Just look at what happened when the Obama administration in 2010 offered federal stimulus money to states to begin building a high-speed rail network. Three Republican governors, including Rick Scott of Florida and Scott Walker of Wisconsin, rejected a share of the money citing debt and deficit concerns. \\n \\n \"A [Mitt] Romney victory would dramatically empower Republican governors,\" Kousser says. \\n \\n State-By-State View \\n \\n North Carolina: One-term incumbent Democratic Gov. Beverly Perdue, the first woman to hold the state\\'s top office, announced in January that she would not seek re-election after polls showed her with high disapproval ratings and trailing Republican candidate Pat McCrory. \\n \\n The seat is expected to be won by McCrory, a former Charlotte mayor, who is facing Perdue\\'s lieutenant governor, Walter Dalton. McCrory lost a close race to Perdue in 2008, when then-presidential candidate Barack Obama became the first Democrat to win North Carolina in more than three decades. The Real Clear Politics average for the race has McCrory maintaining a 14.3 percentage point lead. \\n \\n Montana: Popular Democratic Gov. Brian Schweitzer — he won his last election with 65 percent of the vote — has reached his two-term limit. The state\\'s Democratic Attorney General Steve Bullock is trying to keep the seat in his party\\'s column by associating himself with Schweitzer\\'s legacy. He\\'s in a tough race with former two-term GOP Rep. Rick Hill. \\n \\n New Hampshire: Former Democratic state Sen. Maggie Hassan has also promised a continuation of the policies of her predecessor, retiring Democratic Gov. John Lynch. Her opponent is lawyer Ovide Lamontagne, a Tea Party conservative who ran unsuccessfully for governor in 1996 and for the U.S. Senate in 2010. The national parties have invested in the campaigns, which have focused on fiscal and women\\'s health care issues. \\n \\n Washington: The state\\'s governorship has been in Democratic hands for 32 years, and former U.S. Rep. Jay Inslee is in a dead-heat battle to keep it that way. His opponent is the state\\'s Republican Attorney General Rob McKenna. McKenna has a proven ability to win statewide, but working in Inslee\\'s favor are Obama\\'s poll numbers. The Real Clear Politics average shows Obama with an average 13.6 percentage point lead over Romney; Inslee is leading McKenna by an average of 1 percentage point. \\n \\n Pretty Much Sure Things \\n \\n Republican Govs. Jack Dalrymple in North Dakota and Gary Herbert in Utah, and GOP Rep. Mike Pence in Indiana are expected to win. So are Democratic Govs. Peter Shumlin in Vermont and Jack Markell in Delaware. \\n \\n Democrats are also hoping to hold on to the governorship in Missouri, where Jay Nixon is running for a second term against Republican Dave Spence; and in West Virginia, where Gov. Earl Ray Tomblin, former state senate president, is running for his first full term after winning a special election in 2011. GOP businessman Bill Maloney is his opponent, as he was last year. \\n \\n Nixon has been consistently outpolling Spence by an average of about 7 points in Missouri. Tomblin is seen as likely to retain his seat, even in a state where Romney is leading Obama by double digits. ||||| GOP Eyes Gains As Voters In 11 States Pick Governors \\n \\n Jim Cole / AP i Jim Cole / AP \\n \\n Voters in 11 states will pick their governors tonight, and Republicans appear on track to increase their numbers by at least one, and with the potential to extend their hold to more than two-thirds of the nation\\'s top state offices. \\n \\n Eight of the gubernatorial seats up for grabs today are now held by Democrats; three are in Republican hands. Republicans currently hold 29 governorships, Democrats have 20; and Rhode Island\\'s Gov. Lincoln Chafee is an Independent. \\n \\n Polls and race analysts suggest that only three of tonight\\'s contests are considered competitive, all in states where incumbent Democratic governors aren\\'t running again: Montana, New Hampshire and Washington. \\n \\n While those state races remain too close to call, Republicans are expected to wrest the North Carolina governorship from Democratic control, and to easily win GOP-held seats in Utah, North Dakota and Indiana. \\n \\n Democrats are likely hold on to their seats in West Virginia and Missouri; and expected to notch safe wins in races for seats they hold in Vermont and Delaware. \\n \\n Holding Sway On Health Care \\n \\n While the occupant of the governor\\'s office is historically far less important than the party that controls the state legislature, top state officials in coming years are expected to wield significant influence in at least one major area. \\n \\n And that\\'s health care, says political scientist Thad Kousser, co-author of The Power of American Governors. \\n \\n \"No matter who wins the presidency, national politics is going to be stalemated on the Affordable Care Act,\" says Kousser, of the University of California-Berkeley. \\n \\n A recent U.S. Supreme Court decision giving states the ability to opt out of the law\\'s expansion of Medicaid, the federal insurance program for poor, disabled and elderly Americans, confers \"incredible power\" on the states and their governors, Kousser says. \\n \\n Just look at what happened when the Obama administration in 2010 offered federal stimulus money to states to begin building a high-speed rail network. Three Republican governors, including Rick Scott of Florida and Scott Walker of Wisconsin, rejected a share of the money citing debt and deficit concerns. \\n \\n \"A [Mitt] Romney victory would dramatically empower Republican governors,\" Kousser says. \\n \\n State-by-State View \\n \\n North Carolina: One-term incumbent Democratic Gov. Beverly Perdue, the first woman to hold the state\\'s top office, announced in January she would not seek re-election after polls showed her with high disapproval ratings and trailing Republican candidate Pat McCrory. \\n \\n The seat is expected to be won by McCrory, a former Charlotte mayor, who is facing Perdue\\'s lieutenant governor, Walter Dalton. McCrory lost a close race to Perdue in 2008, when then-presidential candidate Barack Obama became the first Democrat to win North Carolina in more than three decades. The Real Clear Politics average for the race has McCrory maintaining a 14.3 percentage point lead. \\n \\n Montana: Popular Democratic Gov. Brian Schweitzer — he won his last election with 65 percent of the vote — has reached his two-term limit. The state\\'s Democratic Attorney General Steve Bullock is trying to keep the seat in his party\\'s column by associating himself with Schweitzer\\'s legacy. He\\'s in a tough race with former two-term GOP Rep. Rick Hill. \\n \\n New Hampshire: Former Democratic state Sen. Maggie Hassan has also promised a continuation of the policies of her predecessor, retiring Democratic Gov. John Lynch. Her opponent is lawyer Ovide Lamontagne, a Tea Party conservative who ran unsuccessfully for governor in 1996 and for the U.S. Senate in 2010. The national parties have invested in the campaigns, which have focused on fiscal and women\\'s health care issues. \\n \\n Washington: The state\\'s governorship has been in Democratic hands for 32 years, and former Rep. Jay Inslee is in a dead-heat battle to keep it that way. His opponent is the state\\'s Republican Attorney General Rob McKenna. McKenna has a proven ability to win statewide, but working in Inslee\\'s favor are Obama\\'s poll numbers. The Real Clear Politics average shows Obama with an average 13.6 point lead over Romney; Inslee\\'s leading McKenna by an average of 1 percentage point. \\n \\n Pretty Much Sure Things \\n \\n Republican governors Jack Dalrymple in North Dakota and Gary Herbert in Utah, and GOP Rep. Mike Pence in Indiana are expected to win. So are Democratic governors Peter Shumlin in Vermont and Jack Markell in Delaware. \\n \\n Democrats are also hoping to hold on to the governorship in Missouri, where Jay Nixon is running for a second term against Republican Dave Spence; and in West Virginia, where Gov. Earl Ray Tomblin, former state senate president, is running for his first full term after willing a special election in 2011. GOP businessman Bill Maloney is his opponent, as he was last year. \\n \\n Nixon has been consistently out-polling Spence by an average of about 7 points in Missouri. Tomblin is seen as likely to retain his seat, even in a state where Romney is leading Obama by double digits.',\n",
       " 'summary': '– It\\'s a race for the governor\\'s mansion in 11 states today, and the GOP could end the night at the helm of more than two-thirds of the 50 states. The GOP currently controls 29 of the country\\'s top state offices; it\\'s expected to keep the three Republican ones that are up for grabs (Utah, North Dakota, and Indiana), and wrest North Carolina from the Dems. That brings its toll to 30, with the potential to take three more, reports NPR. Races in Montana, New Hampshire, and Washington are still too close to call, and in all three, Democrat incumbents aren\\'t seeking reelection. The results could have a big impact on health care, since a Supreme Court ruling grants states the ability to opt out of ObamaCare\\'s Medicaid expansion. \"A Romney victory would dramatically empower Republican governors,\" said one analyst. Click for NPR\\'s state-by-state breakdown of what could happen.'}"
      ]
     },
     "execution_count": 11,
     "metadata": {},
     "output_type": "execute_result"
    }
   ],
   "source": [
    "dataset[\"test\"][0]"
   ]
  },
  {
   "cell_type": "code",
   "execution_count": 13,
   "id": "39608cd8-47b4-43ac-8855-22ffb480a68b",
   "metadata": {},
   "outputs": [],
   "source": [
    "articles = [x for x in dataset[\"train\"][\"document\"]]"
   ]
  },
  {
   "cell_type": "code",
   "execution_count": 14,
   "id": "3935b319-cf44-4ccb-ac6f-a706c2cbc9cb",
   "metadata": {},
   "outputs": [],
   "source": [
    "article_count = [len(y.split('|||||')) for y in articles]"
   ]
  },
  {
   "cell_type": "code",
   "execution_count": 15,
   "id": "32890cf1-e617-4435-8853-8bd640443dd8",
   "metadata": {},
   "outputs": [
    {
     "name": "stdout",
     "output_type": "stream",
     "text": [
      "1 : 504\n",
      "2 : 23743\n",
      "3 : 12577\n",
      "4 : 4921\n",
      "5 : 1845\n",
      "6 : 707\n",
      "7 : 371\n",
      "8 : 194\n",
      "9 : 81\n",
      "10 : 29\n"
     ]
    }
   ],
   "source": [
    "for i in set(article_count):\n",
    "    print(i,':',article_count.count(i))"
   ]
  },
  {
   "cell_type": "markdown",
   "id": "95418acb-9f13-4616-84ce-ed1ce81dff3e",
   "metadata": {},
   "source": [
    "# Data Preprocessing"
   ]
  },
  {
   "cell_type": "markdown",
   "id": "3c2a527c-735a-4618-9c47-abf5449e3bf7",
   "metadata": {},
   "source": [
    "## Creating Dataframes using the Training and Validation Sets"
   ]
  },
  {
   "cell_type": "code",
   "execution_count": 18,
   "id": "094c26ce-c4a6-40a3-ab04-464092c8db77",
   "metadata": {},
   "outputs": [],
   "source": [
    "import pandas as pd"
   ]
  },
  {
   "cell_type": "code",
   "execution_count": 20,
   "id": "474d4488-f1f8-4516-9865-92e78b541b42",
   "metadata": {},
   "outputs": [],
   "source": [
    "# Using training set\n",
    "news_train_df = pd.DataFrame(dataset[\"train\"])"
   ]
  },
  {
   "cell_type": "code",
   "execution_count": 21,
   "id": "bbff8617-8b3e-429d-9143-854e85b58e9e",
   "metadata": {},
   "outputs": [
    {
     "name": "stdout",
     "output_type": "stream",
     "text": [
      "<class 'pandas.core.frame.DataFrame'>\n",
      "RangeIndex: 44972 entries, 0 to 44971\n",
      "Data columns (total 2 columns):\n",
      " #   Column    Non-Null Count  Dtype \n",
      "---  ------    --------------  ----- \n",
      " 0   document  44972 non-null  object\n",
      " 1   summary   44972 non-null  object\n",
      "dtypes: object(2)\n",
      "memory usage: 702.8+ KB\n"
     ]
    }
   ],
   "source": [
    "news_train_df.info()"
   ]
  },
  {
   "cell_type": "code",
   "execution_count": 25,
   "id": "d546912d-c879-4dbf-98f5-12f8894472b1",
   "metadata": {},
   "outputs": [],
   "source": [
    "# Using Validation Set\n",
    "news_val_df = pd.DataFrame(dataset[\"validation\"])"
   ]
  },
  {
   "cell_type": "code",
   "execution_count": 26,
   "id": "b1ec6836-f49e-4b23-af6c-3e047f039bde",
   "metadata": {},
   "outputs": [
    {
     "name": "stdout",
     "output_type": "stream",
     "text": [
      "<class 'pandas.core.frame.DataFrame'>\n",
      "RangeIndex: 5622 entries, 0 to 5621\n",
      "Data columns (total 2 columns):\n",
      " #   Column    Non-Null Count  Dtype \n",
      "---  ------    --------------  ----- \n",
      " 0   document  5622 non-null   object\n",
      " 1   summary   5622 non-null   object\n",
      "dtypes: object(2)\n",
      "memory usage: 88.0+ KB\n"
     ]
    }
   ],
   "source": [
    "news_val_df.info()"
   ]
  },
  {
   "cell_type": "markdown",
   "id": "5b90ceba-f386-4374-b6c9-90d6199a93d7",
   "metadata": {},
   "source": [
    "## Text Cleaning"
   ]
  },
  {
   "cell_type": "code",
   "execution_count": 28,
   "id": "7fab6b8a-a7b3-4ffb-8670-b9a51387279e",
   "metadata": {},
   "outputs": [],
   "source": [
    "import re"
   ]
  },
  {
   "cell_type": "code",
   "execution_count": 29,
   "id": "01463458-bdf5-43ac-a73e-684f304ef464",
   "metadata": {},
   "outputs": [],
   "source": [
    "def clean_text(text):\n",
    "    text = text.lower()\n",
    "    text = text.replace(\"_\",\"-\").replace(\"_\",\"-\").replace(\"…\", \"...\")\n",
    "    text = re.sub(r\"[^a-z0-9\\s\\.,!?':;\\\"-]\", \"\", text)\n",
    "    text = re.sub(r\"\\s+\", \" \", text).strip()\n",
    "    return text"
   ]
  },
  {
   "cell_type": "markdown",
   "id": "d8637b89-914f-421d-af71-961126ef062d",
   "metadata": {},
   "source": [
    "### Training Set"
   ]
  },
  {
   "cell_type": "code",
   "execution_count": 31,
   "id": "e01812fe-ea00-4d4a-b615-8dd6892990dd",
   "metadata": {},
   "outputs": [],
   "source": [
    "news_train_df[\"document\"] = news_train_df[\"document\"].apply(clean_text)\n",
    "news_train_df[\"summary\"] = news_train_df[\"summary\"].apply(clean_text)"
   ]
  },
  {
   "cell_type": "code",
   "execution_count": 32,
   "id": "5e7e4388-56f0-476e-b398-1ac596071fcc",
   "metadata": {},
   "outputs": [],
   "source": [
    "news_train_df[\"articles\"] = news_train_df[\"document\"].str.split(r\"\\s*\\|\\|\\|\\|\\|\\s*\")"
   ]
  },
  {
   "cell_type": "code",
   "execution_count": 33,
   "id": "fd59b790-6b5b-4bbf-9ab7-dd1def975f38",
   "metadata": {},
   "outputs": [
    {
     "name": "stdout",
     "output_type": "stream",
     "text": [
      "<class 'pandas.core.frame.DataFrame'>\n",
      "RangeIndex: 44972 entries, 0 to 44971\n",
      "Data columns (total 3 columns):\n",
      " #   Column    Non-Null Count  Dtype \n",
      "---  ------    --------------  ----- \n",
      " 0   document  44972 non-null  object\n",
      " 1   summary   44972 non-null  object\n",
      " 2   articles  44972 non-null  object\n",
      "dtypes: object(3)\n",
      "memory usage: 1.0+ MB\n"
     ]
    }
   ],
   "source": [
    "news_train_df.info()"
   ]
  },
  {
   "cell_type": "markdown",
   "id": "24caa578-992c-486f-876c-cd9ce92bbf79",
   "metadata": {},
   "source": [
    "### Validation Set"
   ]
  },
  {
   "cell_type": "code",
   "execution_count": 35,
   "id": "15765307-f0f7-4226-9238-3397b7279b6a",
   "metadata": {},
   "outputs": [],
   "source": [
    "news_val_df[\"document\"] = news_val_df[\"document\"].apply(clean_text)\n",
    "news_val_df[\"summary\"] = news_val_df[\"summary\"].apply(clean_text)"
   ]
  },
  {
   "cell_type": "code",
   "execution_count": 36,
   "id": "87cac689-9ebb-402d-afa8-9a2ce4c30895",
   "metadata": {},
   "outputs": [],
   "source": [
    "news_val_df[\"articles\"] = news_val_df[\"document\"].str.split(r\"\\s*\\|\\|\\|\\|\\|\\s*\")"
   ]
  },
  {
   "cell_type": "code",
   "execution_count": 37,
   "id": "a4e0b719-5d7e-4e40-8dec-f5cea0db6664",
   "metadata": {},
   "outputs": [
    {
     "name": "stdout",
     "output_type": "stream",
     "text": [
      "<class 'pandas.core.frame.DataFrame'>\n",
      "RangeIndex: 5622 entries, 0 to 5621\n",
      "Data columns (total 3 columns):\n",
      " #   Column    Non-Null Count  Dtype \n",
      "---  ------    --------------  ----- \n",
      " 0   document  5622 non-null   object\n",
      " 1   summary   5622 non-null   object\n",
      " 2   articles  5622 non-null   object\n",
      "dtypes: object(3)\n",
      "memory usage: 131.9+ KB\n"
     ]
    }
   ],
   "source": [
    "news_val_df.info()"
   ]
  },
  {
   "cell_type": "markdown",
   "id": "5c8671e7-bfd8-46fc-a42b-d7b9f1fb7650",
   "metadata": {},
   "source": [
    "## Tokenization"
   ]
  },
  {
   "cell_type": "code",
   "execution_count": 43,
   "id": "63cfe799-d754-4875-9549-71ed1d73ff3a",
   "metadata": {},
   "outputs": [],
   "source": [
    "from transformers import AutoTokenizer"
   ]
  },
  {
   "cell_type": "code",
   "execution_count": 60,
   "id": "90830dbb-ae2a-4d41-9522-ef3a7593020f",
   "metadata": {},
   "outputs": [],
   "source": [
    "tokenizer = AutoTokenizer.from_pretrained(\"facebook/bart-large-cnn\")"
   ]
  },
  {
   "cell_type": "markdown",
   "id": "7e85f711-10da-4765-ac38-e31ea40f0a2d",
   "metadata": {},
   "source": [
    "### Tokenizing Training Set"
   ]
  },
  {
   "cell_type": "code",
   "execution_count": 63,
   "id": "7a5b5012-5b06-4b2e-92f1-6abb1fc4a5b9",
   "metadata": {},
   "outputs": [],
   "source": [
    "news_train_df[\"tokenized_article\"] = news_train_df[\"articles\"].apply(\n",
    "    lambda x : tokenizer.batch_encode_plus(x, truncation=True, padding=\"max_length\", max_length=512)\n",
    "                            )"
   ]
  },
  {
   "cell_type": "code",
   "execution_count": 65,
   "id": "b7c1ffd8-045f-4c5d-b2c9-70110887b817",
   "metadata": {},
   "outputs": [],
   "source": [
    "news_train_df[\"target\"] = news_train_df[\"summary\"].apply(\n",
    "    lambda x : tokenizer(x, truncation=True, padding=\"max_length\", max_length=128)\n",
    "                            )"
   ]
  },
  {
   "cell_type": "code",
   "execution_count": 67,
   "id": "fa04a8b0-e1e6-4402-a403-754a02a2d1c3",
   "metadata": {},
   "outputs": [
    {
     "data": {
      "text/plain": [
       "{'input_ids': [[0, 11535, 23697, 4420, 6, 63, 14, 86, 456, 6, 5450, 4, 63, 5, 78, 6664, 21746, 9, 5, 353, 6, 77, 13, 65, 655, 12, 2527, 12, 428, 24062, 1151, 5, 3168, 9, 2204, 2014, 6, 14784, 1054, 8, 1049, 2014, 32, 70, 14485, 15, 65, 631, 35, 1315, 4, 10, 2310, 2935, 15, 5, 1717, 4, 29, 4, 4042, 1068, 13, 10408, 16705, 2323, 5, 22893, 23, 290, 35, 541, 10, 4, 119, 4, 92, 1423, 9657, 86, 1839, 65, 9, 5, 144, 505, 40617, 15, 141, 5, 866, 24779, 148, 5, 986, 353, 4, 2113, 32, 13, 23041, 6, 151, 92, 1315, 7, 28, 1412, 6, 309, 7, 9019, 13829, 30, 38474, 1236, 6909, 340, 605, 7948, 6, 1118, 7, 30398, 6, 151, 1315, 355, 11, 10668, 428, 48540, 4, 5, 5755, 731, 16, 421, 7, 946, 5204, 23, 290, 4, 246, 4, 259, 23, 210, 13825, 1368, 1343, 6, 157, 28, 1839, 3195, 9765, 137, 8, 71, 5, 414, 20238, 5, 22893, 4, 619, 481, 7, 9832, 12, 179, 2512, 6, 1241, 5, 1450, 2810, 4, 8, 150, 47, 241, 259, 6, 596, 33976, 47, 1203, 62, 7, 1407, 201, 15, 7409, 4, 2254, 5, 311, 4, 6334, 2468, 124, 8104, 15, 5947, 94, 353, 6, 10, 8306, 14, 5, 1717, 4, 29, 4, 866, 189, 45, 28, 1197, 1769, 615, 7, 9844, 6295, 633, 434, 4, 5, 5755, 731, 13809, 6, 53, 2260, 142, 55, 38187, 1253, 2294, 546, 13, 173, 4, 5, 4178, 1494, 161, 5, 866, 355, 5962, 6, 151, 1315, 11, 6674, 6, 159, 31, 55, 87, 1878, 6, 151, 11, 349, 9, 5, 986, 130, 377, 4, 5, 5755, 731, 1064, 7, 290, 4, 176, 135, 6, 5, 3912, 187, 10408, 16705, 2338, 4, 5, 731, 1882, 142, 4163, 82, 10593, 13, 1315, 4, 5, 781, 5755, 11154, 129, 1171, 167, 1818, 173, 4, 5, 866, 34, 355, 290, 4432, 6, 151, 1315, 187, 263, 47153, 111, 5, 275, 237, 377, 9, 5947, 11, 80, 107, 4, 53, 752, 6114, 2243, 21576, 741, 3281, 23578, 34, 13335, 14, 5, 595, 5947, 2877, 16, 3752, 7, 535, 396, 55, 2267, 1408, 4, 2, 1, 1, 1, 1, 1, 1, 1, 1, 1, 1, 1, 1, 1, 1, 1, 1, 1, 1, 1, 1, 1, 1, 1, 1, 1, 1, 1, 1, 1, 1, 1, 1, 1, 1, 1, 1, 1, 1, 1, 1, 1, 1, 1, 1, 1, 1, 1, 1, 1, 1, 1, 1, 1, 1, 1, 1, 1, 1, 1, 1, 1, 1, 1, 1, 1, 1, 1, 1, 1, 1, 1, 1, 1, 1, 1, 1, 1, 1, 1, 1, 1, 1, 1, 1, 1, 1, 1, 1, 1, 1, 1, 1, 1, 1, 1, 1, 1, 1, 1, 1, 1, 1, 1, 1, 1, 1, 1, 1, 1, 1, 1, 1, 1, 1, 1, 1, 1, 1, 1, 1, 1, 1, 1, 1, 1, 1, 1, 1, 1, 1, 1, 1, 1, 1, 1, 1, 1, 1, 1, 1, 1, 1, 1, 1, 1, 1, 1, 1, 1, 1, 1]], 'attention_mask': [[1, 1, 1, 1, 1, 1, 1, 1, 1, 1, 1, 1, 1, 1, 1, 1, 1, 1, 1, 1, 1, 1, 1, 1, 1, 1, 1, 1, 1, 1, 1, 1, 1, 1, 1, 1, 1, 1, 1, 1, 1, 1, 1, 1, 1, 1, 1, 1, 1, 1, 1, 1, 1, 1, 1, 1, 1, 1, 1, 1, 1, 1, 1, 1, 1, 1, 1, 1, 1, 1, 1, 1, 1, 1, 1, 1, 1, 1, 1, 1, 1, 1, 1, 1, 1, 1, 1, 1, 1, 1, 1, 1, 1, 1, 1, 1, 1, 1, 1, 1, 1, 1, 1, 1, 1, 1, 1, 1, 1, 1, 1, 1, 1, 1, 1, 1, 1, 1, 1, 1, 1, 1, 1, 1, 1, 1, 1, 1, 1, 1, 1, 1, 1, 1, 1, 1, 1, 1, 1, 1, 1, 1, 1, 1, 1, 1, 1, 1, 1, 1, 1, 1, 1, 1, 1, 1, 1, 1, 1, 1, 1, 1, 1, 1, 1, 1, 1, 1, 1, 1, 1, 1, 1, 1, 1, 1, 1, 1, 1, 1, 1, 1, 1, 1, 1, 1, 1, 1, 1, 1, 1, 1, 1, 1, 1, 1, 1, 1, 1, 1, 1, 1, 1, 1, 1, 1, 1, 1, 1, 1, 1, 1, 1, 1, 1, 1, 1, 1, 1, 1, 1, 1, 1, 1, 1, 1, 1, 1, 1, 1, 1, 1, 1, 1, 1, 1, 1, 1, 1, 1, 1, 1, 1, 1, 1, 1, 1, 1, 1, 1, 1, 1, 1, 1, 1, 1, 1, 1, 1, 1, 1, 1, 1, 1, 1, 1, 1, 1, 1, 1, 1, 1, 1, 1, 1, 1, 1, 1, 1, 1, 1, 1, 1, 1, 1, 1, 1, 1, 1, 1, 1, 1, 1, 1, 1, 1, 1, 1, 1, 1, 1, 1, 1, 1, 1, 1, 1, 1, 1, 1, 1, 1, 1, 1, 1, 1, 1, 1, 1, 1, 1, 1, 1, 1, 1, 1, 1, 1, 1, 1, 1, 1, 1, 1, 1, 1, 1, 1, 1, 1, 1, 1, 1, 1, 1, 1, 1, 1, 1, 1, 1, 1, 1, 1, 1, 1, 1, 1, 1, 1, 1, 0, 0, 0, 0, 0, 0, 0, 0, 0, 0, 0, 0, 0, 0, 0, 0, 0, 0, 0, 0, 0, 0, 0, 0, 0, 0, 0, 0, 0, 0, 0, 0, 0, 0, 0, 0, 0, 0, 0, 0, 0, 0, 0, 0, 0, 0, 0, 0, 0, 0, 0, 0, 0, 0, 0, 0, 0, 0, 0, 0, 0, 0, 0, 0, 0, 0, 0, 0, 0, 0, 0, 0, 0, 0, 0, 0, 0, 0, 0, 0, 0, 0, 0, 0, 0, 0, 0, 0, 0, 0, 0, 0, 0, 0, 0, 0, 0, 0, 0, 0, 0, 0, 0, 0, 0, 0, 0, 0, 0, 0, 0, 0, 0, 0, 0, 0, 0, 0, 0, 0, 0, 0, 0, 0, 0, 0, 0, 0, 0, 0, 0, 0, 0, 0, 0, 0, 0, 0, 0, 0, 0, 0, 0, 0, 0, 0, 0, 0, 0, 0, 0]]}"
      ]
     },
     "execution_count": 67,
     "metadata": {},
     "output_type": "execute_result"
    }
   ],
   "source": [
    "news_train_df[\"tokenized_article\"][0]"
   ]
  },
  {
   "cell_type": "code",
   "execution_count": 69,
   "id": "22de55d5-1700-4275-9d3c-9a5e4d7b2da5",
   "metadata": {},
   "outputs": [
    {
     "data": {
      "text/plain": [
       "{'input_ids': [0, 627, 5755, 731, 1882, 7, 290, 4, 176, 94, 353, 6, 53, 5, 866, 129, 355, 5962, 6, 151, 1315, 6, 77, 23041, 6, 151, 92, 1315, 56, 57, 6126, 6, 309, 7, 452, 18, 1315, 266, 4, 4289, 15, 5, 2204, 2014, 8812, 18, 210, 13825, 5059, 21, 14975, 35, 22, 14869, 895, 16506, 1099, 346, 72, 5, 5755, 731, 6, 959, 6, 16, 357, 340, 131, 24, 56, 57, 421, 7, 946, 5204, 23, 290, 4, 246, 4, 53, 5, 6256, 2775, 14, 5, 10645, 16, 2260, 528, 7, 55, 38187, 1253, 1311, 62, 15, 1818, 4042, 4, 2, 1, 1, 1, 1, 1, 1, 1, 1, 1, 1, 1, 1, 1, 1, 1, 1, 1, 1, 1, 1, 1, 1, 1, 1, 1, 1], 'attention_mask': [1, 1, 1, 1, 1, 1, 1, 1, 1, 1, 1, 1, 1, 1, 1, 1, 1, 1, 1, 1, 1, 1, 1, 1, 1, 1, 1, 1, 1, 1, 1, 1, 1, 1, 1, 1, 1, 1, 1, 1, 1, 1, 1, 1, 1, 1, 1, 1, 1, 1, 1, 1, 1, 1, 1, 1, 1, 1, 1, 1, 1, 1, 1, 1, 1, 1, 1, 1, 1, 1, 1, 1, 1, 1, 1, 1, 1, 1, 1, 1, 1, 1, 1, 1, 1, 1, 1, 1, 1, 1, 1, 1, 1, 1, 1, 1, 1, 1, 1, 1, 1, 1, 0, 0, 0, 0, 0, 0, 0, 0, 0, 0, 0, 0, 0, 0, 0, 0, 0, 0, 0, 0, 0, 0, 0, 0, 0, 0]}"
      ]
     },
     "execution_count": 69,
     "metadata": {},
     "output_type": "execute_result"
    }
   ],
   "source": [
    "news_train_df[\"target\"][0]"
   ]
  },
  {
   "cell_type": "code",
   "execution_count": 71,
   "id": "b4dfc5b9-7b8a-4bba-8d41-a63e8fec80f1",
   "metadata": {},
   "outputs": [
    {
     "name": "stdout",
     "output_type": "stream",
     "text": [
      "<class 'pandas.core.frame.DataFrame'>\n",
      "RangeIndex: 44972 entries, 0 to 44971\n",
      "Data columns (total 5 columns):\n",
      " #   Column             Non-Null Count  Dtype \n",
      "---  ------             --------------  ----- \n",
      " 0   document           44972 non-null  object\n",
      " 1   summary            44972 non-null  object\n",
      " 2   articles           44972 non-null  object\n",
      " 3   tokenized_article  44972 non-null  object\n",
      " 4   target             44972 non-null  object\n",
      "dtypes: object(5)\n",
      "memory usage: 1.7+ MB\n"
     ]
    }
   ],
   "source": [
    "news_train_df.info()"
   ]
  },
  {
   "cell_type": "markdown",
   "id": "edcd155f-80b7-47c8-80ea-d633328be886",
   "metadata": {},
   "source": [
    "### Tokenizing Validation Set"
   ]
  },
  {
   "cell_type": "code",
   "execution_count": 74,
   "id": "52c51415-e363-4335-bcef-f59c0f3e483b",
   "metadata": {},
   "outputs": [],
   "source": [
    "news_val_df[\"tokenized_article\"] = news_val_df[\"articles\"].apply(\n",
    "    lambda x : tokenizer.batch_encode_plus(x, truncation=True, padding=\"max_length\", max_length=512)\n",
    "                            )"
   ]
  },
  {
   "cell_type": "code",
   "execution_count": 77,
   "id": "03071db8-bb1a-49fc-b73e-47f67e110cb8",
   "metadata": {},
   "outputs": [],
   "source": [
    "news_val_df[\"target\"] = news_val_df[\"summary\"].apply(\n",
    "    lambda x : tokenizer(x, truncation=True, padding=\"max_length\", max_length=128)\n",
    "                            )"
   ]
  },
  {
   "cell_type": "markdown",
   "id": "51d438d3-bb72-482a-8d1c-3eb0ab49c905",
   "metadata": {},
   "source": [
    "# Model Training - BART"
   ]
  },
  {
   "cell_type": "code",
   "execution_count": null,
   "id": "14be0e9c-4c9e-430a-a697-3e1159fd7687",
   "metadata": {},
   "outputs": [],
   "source": [
    "from transformers import TFBartForConditionalGeneration, BartTokenizer"
   ]
  },
  {
   "cell_type": "code",
   "execution_count": null,
   "id": "669ad237-bb3c-4ea5-804f-fb50f42f259c",
   "metadata": {},
   "outputs": [],
   "source": [
    "import textwrap"
   ]
  },
  {
   "cell_type": "code",
   "execution_count": null,
   "id": "23819e02-2a69-4a66-aa19-a20ff1c269e0",
   "metadata": {},
   "outputs": [],
   "source": [
    "def text_summarizer_before_ft(inputs):\n",
    "    model_name = \"facebook/bart-large-cnn\"\n",
    "    model = TFBartForConditionalGeneration.from_pretrained(model_name)\n",
    "    summary_ids = model.generate(\n",
    "        inputs[\"input_ids\"],\n",
    "        attention_mask=inputs[\"attention_mask\"],\n",
    "        max_length=150,\n",
    "        min_length=50,\n",
    "        length_penalty=2.0,\n",
    "        num_beams=4,\n",
    "        early_stopping=True\n",
    "    )\n",
    "    tokenizer = AutoTokenizer.from_pretrained(model_name)\n",
    "    summary = tokenizer.decode(summary_ids[0], skip_special_tokens=True)\n",
    "    formatted_summary = \"\\n\".join(textwrap.wrap(summary, width=80))\n",
    "    return formatted_summary"
   ]
  },
  {
   "cell_type": "code",
   "execution_count": null,
   "id": "5954ad38-08bd-424c-9c2b-2db2af483dc2",
   "metadata": {},
   "outputs": [],
   "source": [
    "text_summarizer_before_ft(news_train_df[\"tokenized_article\"][5])"
   ]
  },
  {
   "cell_type": "markdown",
   "id": "d9b6032d-859f-40b1-87f0-a9461f7f2316",
   "metadata": {},
   "source": [
    "## Fine Tuning"
   ]
  },
  {
   "cell_type": "markdown",
   "id": "627bcc01-c1bc-4154-bf23-415bfd684bb7",
   "metadata": {},
   "source": [
    "### Getting only the tokenized data"
   ]
  },
  {
   "cell_type": "code",
   "execution_count": 80,
   "id": "d12c5c3a-4722-461b-b2ad-da8aedd37882",
   "metadata": {},
   "outputs": [],
   "source": [
    "tokenize_train_df = news_train_df[[\"tokenized_article\",\"target\"]]"
   ]
  },
  {
   "cell_type": "code",
   "execution_count": 82,
   "id": "5ac7f239-c6c4-402d-bb0a-b6ed92c041d5",
   "metadata": {},
   "outputs": [],
   "source": [
    "tokenize_val_df = news_val_df[[\"tokenized_article\",\"target\"]]"
   ]
  },
  {
   "cell_type": "code",
   "execution_count": 84,
   "id": "32cf532c-965a-43f8-8b37-f1091eaf95d0",
   "metadata": {},
   "outputs": [],
   "source": [
    "def flatten_input(data):\n",
    "    if isinstance(data, list) and len(data) > 0 and isinstance(data[0], list):\n",
    "        return data[0]\n",
    "    return data"
   ]
  },
  {
   "cell_type": "code",
   "execution_count": 86,
   "id": "205840c5-b1bf-4452-a2f2-80ed4381af7f",
   "metadata": {},
   "outputs": [],
   "source": [
    "tokenized_train_df = pd.DataFrame({\n",
    "    'art_ip_id': tokenize_train_df['tokenized_article'].apply(lambda x: x['input_ids']),\n",
    "    'art_attn_mask': tokenize_train_df['tokenized_article'].apply(lambda x: x['attention_mask']),\n",
    "    'targ_ip_id': tokenize_train_df['target'].apply(lambda x: x['input_ids']),\n",
    "    'targ_attn_mask': tokenize_train_df['target'].apply(lambda x: x['attention_mask'])\n",
    "})"
   ]
  },
  {
   "cell_type": "code",
   "execution_count": 88,
   "id": "5df219d6-8d64-4961-ab68-972b608ac1ee",
   "metadata": {},
   "outputs": [],
   "source": [
    "tokenized_val_df = pd.DataFrame({\n",
    "    'art_ip_id': tokenize_val_df['tokenized_article'].apply(lambda x: x['input_ids']),\n",
    "    'art_attn_mask': tokenize_val_df['tokenized_article'].apply(lambda x: x['attention_mask']),\n",
    "    'targ_ip_id': tokenize_val_df['target'].apply(lambda x: x['input_ids']),\n",
    "    'targ_attn_mask': tokenize_val_df['target'].apply(lambda x: x['attention_mask'])\n",
    "})"
   ]
  },
  {
   "cell_type": "code",
   "execution_count": 90,
   "id": "a92b9d25-30bc-47cb-bb27-acfbe52ce04b",
   "metadata": {},
   "outputs": [],
   "source": [
    "tokenized_train_df['art_ip_id'] = tokenized_train_df['art_ip_id'].apply(flatten_input)\n",
    "tokenized_train_df['art_attn_mask'] = tokenized_train_df['art_attn_mask'].apply(flatten_input)\n",
    "tokenized_train_df['targ_ip_id'] = tokenized_train_df['targ_ip_id'].apply(flatten_input)\n",
    "tokenized_train_df['targ_attn_mask'] = tokenized_train_df['targ_attn_mask'].apply(flatten_input)"
   ]
  },
  {
   "cell_type": "code",
   "execution_count": 92,
   "id": "f169836e-ff0a-45ec-894d-7c625825b64a",
   "metadata": {},
   "outputs": [],
   "source": [
    "tokenized_val_df['art_ip_id'] = tokenized_val_df['art_ip_id'].apply(flatten_input)\n",
    "tokenized_val_df['art_attn_mask'] = tokenized_val_df['art_attn_mask'].apply(flatten_input)\n",
    "tokenized_val_df['targ_ip_id'] = tokenized_val_df['targ_ip_id'].apply(flatten_input)\n",
    "tokenized_val_df['targ_attn_mask'] = tokenized_val_df['targ_attn_mask'].apply(flatten_input)"
   ]
  },
  {
   "cell_type": "code",
   "execution_count": 94,
   "id": "22b10902-0b23-4387-8cf5-f8190814f8f4",
   "metadata": {},
   "outputs": [
    {
     "name": "stdout",
     "output_type": "stream",
     "text": [
      "<class 'pandas.core.frame.DataFrame'>\n",
      "RangeIndex: 44972 entries, 0 to 44971\n",
      "Data columns (total 4 columns):\n",
      " #   Column          Non-Null Count  Dtype \n",
      "---  ------          --------------  ----- \n",
      " 0   art_ip_id       44972 non-null  object\n",
      " 1   art_attn_mask   44972 non-null  object\n",
      " 2   targ_ip_id      44972 non-null  object\n",
      " 3   targ_attn_mask  44972 non-null  object\n",
      "dtypes: object(4)\n",
      "memory usage: 1.4+ MB\n"
     ]
    }
   ],
   "source": [
    "tokenized_train_df.info()"
   ]
  },
  {
   "cell_type": "code",
   "execution_count": 96,
   "id": "640eb0bb-70ec-48e5-9c1e-46f4216d4fe2",
   "metadata": {},
   "outputs": [
    {
     "name": "stdout",
     "output_type": "stream",
     "text": [
      "<class 'pandas.core.frame.DataFrame'>\n",
      "RangeIndex: 5622 entries, 0 to 5621\n",
      "Data columns (total 4 columns):\n",
      " #   Column          Non-Null Count  Dtype \n",
      "---  ------          --------------  ----- \n",
      " 0   art_ip_id       5622 non-null   object\n",
      " 1   art_attn_mask   5622 non-null   object\n",
      " 2   targ_ip_id      5622 non-null   object\n",
      " 3   targ_attn_mask  5622 non-null   object\n",
      "dtypes: object(4)\n",
      "memory usage: 175.8+ KB\n"
     ]
    }
   ],
   "source": [
    "tokenized_val_df.info()"
   ]
  },
  {
   "cell_type": "code",
   "execution_count": 98,
   "id": "e93516ec-9d9b-4109-92e3-9451b7e71221",
   "metadata": {},
   "outputs": [],
   "source": [
    "train_sampled = tokenized_train_df.sample(n=1000,random_state=42)\n",
    "val_sampled = tokenized_val_df.sample(n=1000,random_state=42)"
   ]
  },
  {
   "cell_type": "markdown",
   "id": "6ef23ae5-afb0-4ca0-a335-3aa9b6b26a7c",
   "metadata": {},
   "source": [
    "### Converting to a format that can be accepted by Hugging Face Trainer API for fine tuning"
   ]
  },
  {
   "cell_type": "code",
   "execution_count": 101,
   "id": "34a27d55-15e4-4d41-803f-9a467aca544a",
   "metadata": {},
   "outputs": [],
   "source": [
    "from datasets import Dataset\n",
    "\n",
    "train_hf = Dataset.from_pandas(train_sampled.drop(\"targ_attn_mask\",axis=1))\n",
    "val_hf = Dataset.from_pandas(val_sampled.drop(\"targ_attn_mask\",axis=1))"
   ]
  },
  {
   "cell_type": "code",
   "execution_count": 103,
   "id": "5830bbaa-fef1-4976-ae2c-7377a655d4eb",
   "metadata": {},
   "outputs": [],
   "source": [
    "train_hf = train_hf.rename_columns({\n",
    "    \"art_ip_id\": \"input_ids\",\n",
    "    \"art_attn_mask\": \"attention_mask\",\n",
    "    \"targ_ip_id\": \"labels\"\n",
    "})\n",
    "val_hf = val_hf.rename_columns({\n",
    "    \"art_ip_id\": \"input_ids\",\n",
    "    \"art_attn_mask\": \"attention_mask\",\n",
    "    \"targ_ip_id\": \"labels\"\n",
    "})"
   ]
  },
  {
   "cell_type": "code",
   "execution_count": 105,
   "id": "a84c5348-2990-4163-9df2-fd9240dee8af",
   "metadata": {},
   "outputs": [
    {
     "name": "stdout",
     "output_type": "stream",
     "text": [
      "['input_ids', 'attention_mask', 'labels', '__index_level_0__']\n",
      "['input_ids', 'attention_mask', 'labels', '__index_level_0__']\n"
     ]
    }
   ],
   "source": [
    "print(train_hf.column_names)\n",
    "print(val_hf.column_names)"
   ]
  },
  {
   "cell_type": "code",
   "execution_count": 107,
   "id": "7b40d56a-9977-4a7e-868f-25463d1b9f6c",
   "metadata": {},
   "outputs": [],
   "source": [
    "train_hf = train_hf.remove_columns([\"__index_level_0__\"])\n",
    "val_hf = val_hf.remove_columns([\"__index_level_0__\"])"
   ]
  },
  {
   "cell_type": "markdown",
   "id": "3ba626e7-1b8c-422a-9c27-cf640bc47d01",
   "metadata": {},
   "source": [
    "### The fine tuning process"
   ]
  },
  {
   "cell_type": "code",
   "execution_count": 110,
   "id": "3cd05a95-a15f-45d3-b4e4-d93fd5394d10",
   "metadata": {},
   "outputs": [],
   "source": [
    "from transformers import BartForConditionalGeneration, AutoTokenizer\n",
    "\n",
    "model_name = \"facebook/bart-base\"\n",
    "model = BartForConditionalGeneration.from_pretrained(model_name)\n",
    "tokenizer = AutoTokenizer.from_pretrained(model_name)"
   ]
  },
  {
   "cell_type": "code",
   "execution_count": 112,
   "id": "ef249608-ddb6-4891-8c24-de8521123ccf",
   "metadata": {},
   "outputs": [],
   "source": [
    "from transformers import DataCollatorForSeq2Seq\n",
    "data_collator = DataCollatorForSeq2Seq(tokenizer, model = model, padding = 'longest')"
   ]
  },
  {
   "cell_type": "code",
   "execution_count": 116,
   "id": "c4bcd198-3573-4434-8176-caf27b2a4fcf",
   "metadata": {
    "scrolled": true
   },
   "outputs": [
    {
     "name": "stdout",
     "output_type": "stream",
     "text": [
      "Using device: cuda\n",
      "Epoch 1/2\n"
     ]
    },
    {
     "data": {
      "text/html": [
       "\n",
       "    <div>\n",
       "      \n",
       "      <progress value='500' max='500' style='width:300px; height:20px; vertical-align: middle;'></progress>\n",
       "      [500/500 19:18, Epoch 2/2]\n",
       "    </div>\n",
       "    <table border=\"1\" class=\"dataframe\">\n",
       "  <thead>\n",
       " <tr style=\"text-align: left;\">\n",
       "      <th>Epoch</th>\n",
       "      <th>Training Loss</th>\n",
       "      <th>Validation Loss</th>\n",
       "    </tr>\n",
       "  </thead>\n",
       "  <tbody>\n",
       "    <tr>\n",
       "      <td>1</td>\n",
       "      <td>3.174900</td>\n",
       "      <td>2.852478</td>\n",
       "    </tr>\n",
       "    <tr>\n",
       "      <td>2</td>\n",
       "      <td>2.760500</td>\n",
       "      <td>2.815744</td>\n",
       "    </tr>\n",
       "  </tbody>\n",
       "</table><p>"
      ],
      "text/plain": [
       "<IPython.core.display.HTML object>"
      ]
     },
     "metadata": {},
     "output_type": "display_data"
    },
    {
     "name": "stderr",
     "output_type": "stream",
     "text": [
      "There were missing keys in the checkpoint model loaded: ['model.encoder.embed_tokens.weight', 'model.decoder.embed_tokens.weight', 'lm_head.weight'].\n"
     ]
    },
    {
     "data": {
      "text/html": [
       "\n",
       "    <div>\n",
       "      \n",
       "      <progress value='2000' max='1000' style='width:300px; height:20px; vertical-align: middle;'></progress>\n",
       "      [1000/1000 11:58]\n",
       "    </div>\n",
       "    "
      ],
      "text/plain": [
       "<IPython.core.display.HTML object>"
      ]
     },
     "metadata": {},
     "output_type": "display_data"
    },
    {
     "name": "stdout",
     "output_type": "stream",
     "text": [
      "Cleared GPU memory after epoch 1\n",
      "Epoch 2/2\n"
     ]
    },
    {
     "data": {
      "text/html": [
       "\n",
       "    <div>\n",
       "      \n",
       "      <progress value='500' max='500' style='width:300px; height:20px; vertical-align: middle;'></progress>\n",
       "      [500/500 19:20, Epoch 2/2]\n",
       "    </div>\n",
       "    <table border=\"1\" class=\"dataframe\">\n",
       "  <thead>\n",
       " <tr style=\"text-align: left;\">\n",
       "      <th>Epoch</th>\n",
       "      <th>Training Loss</th>\n",
       "      <th>Validation Loss</th>\n",
       "    </tr>\n",
       "  </thead>\n",
       "  <tbody>\n",
       "    <tr>\n",
       "      <td>1</td>\n",
       "      <td>2.773100</td>\n",
       "      <td>2.818698</td>\n",
       "    </tr>\n",
       "    <tr>\n",
       "      <td>2</td>\n",
       "      <td>2.376300</td>\n",
       "      <td>2.814389</td>\n",
       "    </tr>\n",
       "  </tbody>\n",
       "</table><p>"
      ],
      "text/plain": [
       "<IPython.core.display.HTML object>"
      ]
     },
     "metadata": {},
     "output_type": "display_data"
    },
    {
     "name": "stderr",
     "output_type": "stream",
     "text": [
      "There were missing keys in the checkpoint model loaded: ['model.encoder.embed_tokens.weight', 'model.decoder.embed_tokens.weight', 'lm_head.weight'].\n"
     ]
    },
    {
     "data": {
      "text/html": [
       "\n",
       "    <div>\n",
       "      \n",
       "      <progress value='2000' max='1000' style='width:300px; height:20px; vertical-align: middle;'></progress>\n",
       "      [1000/1000 30:35]\n",
       "    </div>\n",
       "    "
      ],
      "text/plain": [
       "<IPython.core.display.HTML object>"
      ]
     },
     "metadata": {},
     "output_type": "display_data"
    },
    {
     "name": "stdout",
     "output_type": "stream",
     "text": [
      "Cleared GPU memory after epoch 2\n"
     ]
    }
   ],
   "source": [
    "import torch\n",
    "import gc\n",
    "from transformers import Trainer, TrainingArguments\n",
    "\n",
    "device = \"cuda\" if torch.cuda.is_available() else \"cpu\"\n",
    "print(f\"Using device: {device}\")\n",
    "\n",
    "model = model.to(device)\n",
    "\n",
    "training_args = TrainingArguments(\n",
    "    output_dir=\"./results\",\n",
    "    num_train_epochs=2,\n",
    "    per_device_train_batch_size=1,\n",
    "    per_device_eval_batch_size=1,\n",
    "    gradient_accumulation_steps=4,\n",
    "    eval_strategy=\"epoch\",\n",
    "    save_strategy=\"epoch\",\n",
    "    learning_rate=5e-5,\n",
    "    fp16=True,              \n",
    "    save_total_limit=2,\n",
    "    logging_dir=\"./logs\",\n",
    "    logging_steps=50,\n",
    "    load_best_model_at_end=True,  \n",
    "    remove_unused_columns=False,\n",
    ")\n",
    "\n",
    "trainer = Trainer(\n",
    "    model=model,\n",
    "    args=training_args,\n",
    "    train_dataset=train_hf,\n",
    "    eval_dataset=val_hf,\n",
    "    processing_class=tokenizer,\n",
    ")\n",
    "\n",
    "for epoch in range(training_args.num_train_epochs):\n",
    "    print(f\"Epoch {epoch+1}/{training_args.num_train_epochs}\")\n",
    "    trainer.train()\n",
    "    trainer.evaluate()\n",
    "    torch.cuda.empty_cache()\n",
    "    gc.collect()\n",
    "    print(f\"Cleared GPU memory after epoch {epoch+1}\")"
   ]
  },
  {
   "cell_type": "markdown",
   "id": "6e21acb8-265a-4aba-9209-8a156e0a2f7a",
   "metadata": {},
   "source": [
    "## Getting Summaries from the fine-tuned model and Computing Evaluation Metrics"
   ]
  },
  {
   "cell_type": "code",
   "execution_count": 118,
   "id": "ecc3881b-8d5a-4470-95d9-c609691c848e",
   "metadata": {},
   "outputs": [],
   "source": [
    "bart_metrics = trainer.evaluate()"
   ]
  },
  {
   "cell_type": "code",
   "execution_count": 124,
   "id": "e5d191b8-4077-4651-ac9a-610935c566de",
   "metadata": {},
   "outputs": [
    {
     "name": "stdout",
     "output_type": "stream",
     "text": [
      "eval_loss : 2.8143887519836426\n",
      "eval_runtime : 138.6794\n",
      "eval_samples_per_second : 7.211\n",
      "eval_steps_per_second : 7.211\n",
      "epoch : 2.0\n"
     ]
    }
   ],
   "source": [
    "for i in bart_metrics.keys():\n",
    "    print(i,':',bart_metrics[i])"
   ]
  },
  {
   "cell_type": "code",
   "execution_count": 57,
   "id": "ce28e926-8d10-4699-af23-cd4c7557952c",
   "metadata": {},
   "outputs": [],
   "source": [
    "from transformers import BartForConditionalGeneration, AutoTokenizer"
   ]
  },
  {
   "cell_type": "code",
   "execution_count": 59,
   "id": "252dccdb-c3f8-486b-bebe-4fd6b8a445c1",
   "metadata": {},
   "outputs": [],
   "source": [
    "model_name = \"./results/checkpoint-250\"\n",
    "model = BartForConditionalGeneration.from_pretrained(model_name)\n",
    "tokenizer = AutoTokenizer.from_pretrained(model_name)"
   ]
  },
  {
   "cell_type": "code",
   "execution_count": 93,
   "id": "687f6119-9c49-4948-abfc-b142342dbfd7",
   "metadata": {},
   "outputs": [],
   "source": [
    "def text_summarizer_after_ft(text):\n",
    "    inputs = tokenizer(text, return_tensors=\"pt\", max_length=768, truncation=True)\n",
    "    with torch.no_grad():\n",
    "        summary_ids = model.generate(\n",
    "            inputs[\"input_ids\"],\n",
    "            attention_mask=inputs[\"attention_mask\"],\n",
    "            max_length=200,\n",
    "            min_length=50,\n",
    "            length_penalty=2.0,\n",
    "            num_beams=4,\n",
    "            early_stopping=True\n",
    "        )\n",
    "    summary = tokenizer.decode(summary_ids[0], skip_special_tokens=True)\n",
    "    return summary"
   ]
  },
  {
   "cell_type": "code",
   "execution_count": 103,
   "id": "0488803a-df92-4269-8261-2cd18b96b050",
   "metadata": {
    "scrolled": true
   },
   "outputs": [
    {
     "name": "stdout",
     "output_type": "stream",
     "text": [
      "['whether a sign of a good read; or a comment on the \\'pulp\\' nature of some genres of fiction, the oxfam second-hand book charts have remained in the da vinci code author\\'s favour for the past four years. dan brown has topped oxfam\\'s \\'most donated\\' list again, his fourth consecutive year. having sold more than 80 million copies of the da vinci code and had all four of his novels on the new york times bestseller list in the same week, it\\'s hardly surprising that brown\\'s hefty tomes are being donated to charity by readers keen to make some room on their shelves. another cult crime writer responsible to heavy-weight hardbacks, stieg larsson, is oxfam\\'s \\'most sold\\' author for the second time in a row. both the \\'most donated\\' and \\'most sold\\' lists are dominated by crime fiction, trilogies and fantasy, with jk rowling the only female author listed in either of the top fives. click here or on \"view gallery\" to see both charts in pictures a woman reads a copy of the newly released book \\'\\'the lost symbol\\'\\' by dan brown, at a speed reading book launch event in sydney, september 15, 2009. reuterstim wimborne san francisco the latest novel from \"da vinci code\" author dan brown, \"the lost symbol,\" broke one-day sales records, its publisher and booksellers said. readers snapped up over one million hardcover copies across the united states, canada and the united kingdom after it was released on tuesday, said publisher knopf doubleday, a division of random house inc. \"we are seeing historic, record-breaking sales across all types of our accounts in north america for \\'the lost symbol,\" said sonny mehta, editor in chief of knopf doubleday publishing group. knopf doubleday is a division of random house inc. amazon.com inc, the world\\'s largest online retailer, called the book its bestselling first-day adult fiction title ever, including pre-orders. barnes noble inc said \"the lost symbol\" broke its previous one-day sales record for adult fiction. the success of the dan brown\\'s latest is a boost to publisher knopf doubleday and booksellers, which have endured sliding sales in the midst of the recession. booksellers have anxiously awaited a popular title that will resonate with readers and fuel the same sort of frenzy seen earlier this decade with the \"harry potter\" series, from author j.k. rowling. but the 25 billion domestic book market has wallowed in a slump in recent years as more readers make their purchases online, or forego books altogether for online games and other forms of media and entertainment. now, digital books and electronic reading devices such as amazon\\'s kindle or sony corp\\'s reader are seen as both avenues of growth and sources of competition for traditional media, and publishers and booksellers are scrambling to respond. the highly anticipated book from brown comes six years after the release of the american novelist\\'s last book \"the da vinci code\". it follows the adventures of harvard professor robert langdon and is set in the secret world of freemasons in washington d.c. \"the da vinci code\" sold 80 million copies worldwide. it was made into a film starring tom hanks that grossed more than 758 million, according to tracking firm box office mojo. shares of amazon closed up 7.15 to 90.70 on the nasdaq. amazon was upgraded to a \"buy\" rating by bank of america merrill lynch, which cited a resurgence in e-commerce that would benefit the seattle-based company. barnes noble closed up 14 cents to 22.04 and book retailer borders group inc closed up 2 cents to 3.29, on the new york stock exchange. reporting by alexandria sage; editing by carol bishopric bestselling author is also the most frequently given away to charity shops dan brown might be one of the world\\'s bestselling authors but it turns out that readers aren\\'t too keen on keeping his special blend of religious conspiracy and scholarly derring-do on their shelves once they\\'ve bought it. brown, who has sold more than 81m copies of the da vinci code worldwide, has been revealed as the most donated author to oxfam\\'s 700 high street shops. with just four books to his name although his long-awaited fifth the lost symbol is published next month brown did well to see off competition from john grisham, author of more than 20 and the second-most likely writer to be ditched in a charity shop by readers. but as secondhand bookshop shelves flood with battered editions of angels and demons and digital fortress, brown can comfort himself with the fact that he\\'s also oxfam\\'s second most bought author: there are, apparently, still readers out there who have yet to follow the adventures of the dapper symbologist robert langdon. there\\'s no such consolation for grisham, whose legal thrillers fail to make oxfam\\'s bestseller charts at all. \"there\\'s no question that when you go into the back room of oxfam shops there are many dan brown books,\" said oxfam\\'s director of trading david mccullough. \"but he\\'s also very high on the bestseller list so there is a useful recycling exercise going on it\\'s not just people saying \\'i\\'ve read the da vinci code and now i must get rid of it\\'.\" ian rankin, whose dour, boozy detective john rebus is no robert langdon, tops oxfam\\'s bestseller list, which the charity says is the first ever high-street secondhand bestseller chart. \"it\\'s always good for an author to know that their books are popular,\" said the scottish author, who will unveil a new policeman hero, the teetotal malcolm fox, next month. \"with oxfam, it\\'s also heartening to realise that each book donated and bought is helping such a worthwhile organisation.\" stephenie meyer, author of the twilight series and instigator of myriad teenage crushes courtesy of her sparkly vampire hero edward cullen, is also sitting high in oxfam\\'s charts, nestling between bernard cornwell and terry pratchett. margaret atwood, meanwhile, winner of the booker prize and author of a host of critically acclaimed works of fiction, scrapes into the list in eighth place, keeping unlikely company with thriller powerhouse james patterson currently producing at least eight books a year thanks to a horde of co-writers and jodi picoult, never afraid to jerk a tear or pile on the plot twists. \"we just need to dispel the idea that we are sitting there in oxfam with only first editions of literary gems actually we\\'ve got shelves of really good fiction,\" said mccullough. \"waterstone\\'s might be more upset than secondhand booksellers,\" he added, referring to the recent slew of complaints from secondhand booksellers that the charity is stealing their business. oxfam, europe\\'s biggest high-street retailer of secondhand books and the third-biggest bookseller in the uk, launched a drive for book donations in may ahead of its first national book festival, bookfest, in july. authors including joanna trollope, philip pullman and jonathan coe all lent a hand in shops across the country as part of the festival, and the drive saw book donations rise 40, with sales up by more than 10. rare books and first editions have also been pouring into shops since may. ten of the most sought-after editions have raised more than 4,500 for the charity between them. a first edition of lord of the rings sold for 800, a first edition of watership down brought in 500, sylvia plath\\'s ariel sold for 350, ian fleming\\'s from russia with love for 300 and a second printing of martin chuzzlewit for 200. oxfam, which has more than 130 specialist bookshops and stocks books in almost all of its 700 stores, sells 1.6m-worth of books a month equivalent, it says, to 50,000 emergency shelters, 64,000 goats or safe water for 2.1 million people. the most donated authors to oxfam shops so far this year: 1. dan brown 2. john grisham 3. ian rankin 4. danielle steel 5. helen fielding 6. stephen king 7. jk rowling 8. catherine cookson 9. patricia cornwell 10. mills boon the oxfam shop bestseller list: 1. ian rankin 2. dan brown 3. bernard cornwell 4. stephanie meyer 5. terry pratchett 6. khaled hosseini 7. helen fielding 8. margaret atwood 9. james patterson 10. jodi picoult the top 10 most valuable donated books since may: 1. jrr tolkien, lord of the rings first edition, sold for 800 2. don giovanni sheet music first edition, sold for 750 3. sowerby\\'s catalogue of shells sold for 600 4. richard adams, watership down first edition, sold for 500 5. handbook of indian dances - first edition with hand-blocked prints, sold for 500 6. richmal crompton, just william - first edition, sold for 440 7. sylvia plath, ariel first edition, sold for 350 8. ian fleming, from russia with love first edition, sold for 300 9. charles dickens, martin chuzzlewit second print, sold for 200 10. we johns, biggles in australia first edition, sold for 150 a charity shop is urging people to stop donating the da vinci code after becoming overwhelmed with copies. the oxfam shop in swansea has been receiving an average of one copy of the dan brown novel a week for months, leaving them with little room for any other books. staff who are struggling to sell copies of the book have put a note up in the store saying they would rather donors hand in their vinyl instead.']\n"
     ]
    }
   ],
   "source": [
    "print(news_val_df['articles'][0])"
   ]
  },
  {
   "cell_type": "code",
   "execution_count": 105,
   "id": "afabb158-e40a-40f3-9857-2beccbcd3403",
   "metadata": {},
   "outputs": [],
   "source": [
    "sample_pred = text_summarizer_after_ft(news_val_df['articles'][0])"
   ]
  },
  {
   "cell_type": "code",
   "execution_count": 106,
   "id": "5cd556a6-4b3e-4400-ad6e-9b9a167e4506",
   "metadata": {},
   "outputs": [
    {
     "name": "stdout",
     "output_type": "stream",
     "text": [
      "a new york times bestseller has surpassed the previous record of 80 million sold. dan brown's \"the lost symbol\" broke its previous one-day sales record for adult fiction, reports the guardian. the book sold over one million hardcover copies across the united states, canada, and the united kingdom after it was released on tuesday, the bbc reports. brown's latest novel, the da vinci code, is set to be made into a film starring tom hanks that grossed more than 758 million, the guardian reports. \"we are seeing historic, record-breaking sales across all types of our accounts\n"
     ]
    }
   ],
   "source": [
    "print(sample_pred)"
   ]
  },
  {
   "cell_type": "code",
   "execution_count": 109,
   "id": "eada93eb-fda4-457d-8b94-c5fd491b53e5",
   "metadata": {},
   "outputs": [
    {
     "name": "stdout",
     "output_type": "stream",
     "text": [
      "the da vinci code has sold so many copiesthat would be at least 80 millionthat it's bound to turn up in book donation piles. but at one charity shop in the uk, it's been donated so heavily that the shop has posted a sign propped up on a tower of da vinci code copies that reads: \"you could give us another da vinci code... but we would rather have your vinyl!\" the manager of the oxfam shop in swansea tells the telegraph that people are laughing and taking pictures of the sizable display: \"i would say that we get one copy of the book every day.\" he says people buy them \"occasionally,\" but with vinyl sales up 25 in the past year, they'd rather take records. dan brown's book isn't the only one that shops like oxfam struggle to re-sell. last year, oxfam was hit with a large and steady supply of fifty shades of grey, and it similarly begged donors: \"pleaseno more.\" but brown has a particular kind of staying power. the da vinci code was published in 2003, and within six years brown had booted john grisham from the no. 1 slot on the list of writers whose books were most often donated to oxfam's 700 shops, reported the guardian at the time. the independent in 2012 reported brown's best-seller was the most-donated book for the fourth year running. see why dan brown took heat from the philippines.\n"
     ]
    }
   ],
   "source": [
    "print(news_val_df[\"summary\"][0])"
   ]
  },
  {
   "cell_type": "code",
   "execution_count": 188,
   "id": "a407317f-89a5-477e-b3b4-b786706a3029",
   "metadata": {},
   "outputs": [],
   "source": [
    "test_hf = Dataset.from_pandas(news_val_df[[\"articles\",\"summary\"]].sample(n=100,random_state=42))"
   ]
  },
  {
   "cell_type": "code",
   "execution_count": 190,
   "id": "c726c5ba-1bfb-435e-88bb-f301630f129c",
   "metadata": {},
   "outputs": [
    {
     "data": {
      "text/plain": [
       "['articles', 'summary', '__index_level_0__']"
      ]
     },
     "execution_count": 190,
     "metadata": {},
     "output_type": "execute_result"
    }
   ],
   "source": [
    "test_hf.column_names"
   ]
  },
  {
   "cell_type": "markdown",
   "id": "68a6da86-a748-4e71-bfc8-91406716a6b1",
   "metadata": {},
   "source": [
    "# Model Training - T5"
   ]
  },
  {
   "cell_type": "code",
   "execution_count": 51,
   "id": "7abaab33-2b4e-43ab-915c-0a4059bfa9b0",
   "metadata": {},
   "outputs": [
    {
     "name": "stderr",
     "output_type": "stream",
     "text": [
      "You are using the default legacy behaviour of the <class 'transformers.models.t5.tokenization_t5.T5Tokenizer'>. This is expected, and simply means that the `legacy` (previous) behavior will be used so nothing changes for you. If you want to use the new behaviour, set `legacy=False`. This should only be set if you understand what it means, and thoroughly read the reason why this was added as explained in https://github.com/huggingface/transformers/pull/24565\n"
     ]
    }
   ],
   "source": [
    "from transformers import T5Tokenizer, T5ForConditionalGeneration\n",
    "\n",
    "model_name = \"t5-small\"\n",
    "tokenizer = T5Tokenizer.from_pretrained(model_name)\n",
    "model = T5ForConditionalGeneration.from_pretrained(model_name)"
   ]
  },
  {
   "cell_type": "code",
   "execution_count": 53,
   "id": "02918ac7-cb46-4a88-96d1-a611b8d9a117",
   "metadata": {},
   "outputs": [],
   "source": [
    "def preprocess_function(examples):\n",
    "    inputs = [\"summarize: \" + \" \".join(doc) for doc in examples[\"articles\"]]\n",
    "    model_inputs = tokenizer(\n",
    "        inputs, max_length=512, padding=\"max_length\", truncation=True, return_tensors=\"pt\"\n",
    "    )\n",
    "    labels = tokenizer(\n",
    "        examples[\"summary\"], max_length=150, padding=\"max_length\", truncation=True, return_tensors=\"pt\"\n",
    "    )\n",
    "    model_inputs[\"labels\"] = labels[\"input_ids\"]\n",
    "    return model_inputs"
   ]
  },
  {
   "cell_type": "code",
   "execution_count": 55,
   "id": "f1a0a20a-5687-4a64-8934-56f10cf05b7f",
   "metadata": {},
   "outputs": [],
   "source": [
    "train_df_t5 = news_train_df[[\"articles\",\"summary\"]]\n",
    "val_df_t5 = news_val_df[[\"articles\",\"summary\"]]"
   ]
  },
  {
   "cell_type": "code",
   "execution_count": 59,
   "id": "e320f002-c9f0-4ad5-942b-d3485a95e0c9",
   "metadata": {},
   "outputs": [],
   "source": [
    "from datasets import Dataset\n",
    "train_hf_t5 = Dataset.from_pandas(train_df_t5)\n",
    "val_hf_t5 = Dataset.from_pandas(val_df_t5)"
   ]
  },
  {
   "cell_type": "code",
   "execution_count": 61,
   "id": "805aff49-20a4-4365-afb0-6b7904aaa3b4",
   "metadata": {},
   "outputs": [
    {
     "data": {
      "application/vnd.jupyter.widget-view+json": {
       "model_id": "079254de04c04ff5932b89b57c9e5509",
       "version_major": 2,
       "version_minor": 0
      },
      "text/plain": [
       "Map:   0%|          | 0/44972 [00:00<?, ? examples/s]"
      ]
     },
     "metadata": {},
     "output_type": "display_data"
    },
    {
     "data": {
      "application/vnd.jupyter.widget-view+json": {
       "model_id": "1818d8ae3dfe43bc86963e9146738c48",
       "version_major": 2,
       "version_minor": 0
      },
      "text/plain": [
       "Map:   0%|          | 0/5622 [00:00<?, ? examples/s]"
      ]
     },
     "metadata": {},
     "output_type": "display_data"
    }
   ],
   "source": [
    "train_hf_t5 = train_hf_t5.map(preprocess_function, batched=True)\n",
    "val_hf_t5 = val_hf_t5.map(preprocess_function, batched=True)"
   ]
  },
  {
   "cell_type": "code",
   "execution_count": 63,
   "id": "ccc54447-df40-4d12-a791-e029033889c9",
   "metadata": {},
   "outputs": [
    {
     "data": {
      "text/plain": [
       "['articles', 'summary', 'input_ids', 'attention_mask', 'labels']"
      ]
     },
     "execution_count": 63,
     "metadata": {},
     "output_type": "execute_result"
    }
   ],
   "source": [
    "train_hf_t5.column_names"
   ]
  },
  {
   "cell_type": "code",
   "execution_count": 65,
   "id": "55b2febb-1e01-42b4-88f3-2e9837f851db",
   "metadata": {},
   "outputs": [],
   "source": [
    "train_hf_t5_2 = train_hf_t5.remove_columns(['articles','summary'])"
   ]
  },
  {
   "cell_type": "code",
   "execution_count": 67,
   "id": "72aea020-98d6-4b80-825e-afda80ffbd9d",
   "metadata": {},
   "outputs": [],
   "source": [
    "val_hf_t5_2 = val_hf_t5.remove_columns(['articles','summary'])"
   ]
  },
  {
   "cell_type": "code",
   "execution_count": 71,
   "id": "094be9d6-f42b-4bd2-9c45-11bf5a01624e",
   "metadata": {},
   "outputs": [
    {
     "name": "stdout",
     "output_type": "stream",
     "text": [
      "WARNING:tensorflow:From C:\\Users\\lalit\\anaconda3\\Lib\\site-packages\\tf_keras\\src\\losses.py:2976: The name tf.losses.sparse_softmax_cross_entropy is deprecated. Please use tf.compat.v1.losses.sparse_softmax_cross_entropy instead.\n",
      "\n",
      "Using device: cuda\n"
     ]
    },
    {
     "name": "stderr",
     "output_type": "stream",
     "text": [
      "Passing a tuple of `past_key_values` is deprecated and will be removed in Transformers v4.48.0. You should pass an instance of `EncoderDecoderCache` instead, e.g. `past_key_values=EncoderDecoderCache.from_legacy_cache(past_key_values)`.\n"
     ]
    },
    {
     "data": {
      "text/html": [
       "\n",
       "    <div>\n",
       "      \n",
       "      <progress value='500' max='500' style='width:300px; height:20px; vertical-align: middle;'></progress>\n",
       "      [500/500 11:38, Epoch 2/2]\n",
       "    </div>\n",
       "    <table border=\"1\" class=\"dataframe\">\n",
       "  <thead>\n",
       " <tr style=\"text-align: left;\">\n",
       "      <th>Epoch</th>\n",
       "      <th>Training Loss</th>\n",
       "      <th>Validation Loss</th>\n",
       "    </tr>\n",
       "  </thead>\n",
       "  <tbody>\n",
       "    <tr>\n",
       "      <td>1</td>\n",
       "      <td>3.369000</td>\n",
       "      <td>3.032915</td>\n",
       "    </tr>\n",
       "    <tr>\n",
       "      <td>2</td>\n",
       "      <td>3.202800</td>\n",
       "      <td>2.987684</td>\n",
       "    </tr>\n",
       "  </tbody>\n",
       "</table><p>"
      ],
      "text/plain": [
       "<IPython.core.display.HTML object>"
      ]
     },
     "metadata": {},
     "output_type": "display_data"
    },
    {
     "name": "stdout",
     "output_type": "stream",
     "text": [
      "Clearing GPU memory after epoch 2.0\n",
      "Clearing GPU memory after epoch 3.0\n"
     ]
    },
    {
     "data": {
      "text/plain": [
       "TrainOutput(global_step=500, training_loss=3.32998193359375, metrics={'train_runtime': 700.6964, 'train_samples_per_second': 2.854, 'train_steps_per_second': 0.714, 'total_flos': 270683602944000.0, 'train_loss': 3.32998193359375, 'epoch': 2.0})"
      ]
     },
     "execution_count": 71,
     "metadata": {},
     "output_type": "execute_result"
    }
   ],
   "source": [
    "import torch\n",
    "import gc\n",
    "from transformers import Trainer, TrainingArguments, TrainerCallback\n",
    "\n",
    "class ClearMemoryCallback(TrainerCallback):\n",
    "    def on_epoch_end(self, args, state, control, **kwargs):\n",
    "        print(f\"Clearing GPU memory after epoch {state.epoch + 1}\")\n",
    "        torch.cuda.empty_cache()\n",
    "        gc.collect()\n",
    "\n",
    "device = \"cuda\" if torch.cuda.is_available() else \"cpu\"\n",
    "print(f\"Using device: {device}\")\n",
    "\n",
    "training_args = TrainingArguments(\n",
    "    output_dir=\"./t5-finetuned-multinews\",\n",
    "    eval_strategy=\"epoch\",\n",
    "    learning_rate=5e-5,\n",
    "    per_device_train_batch_size=1, \n",
    "    per_device_eval_batch_size=1,\n",
    "    num_train_epochs=2,\n",
    "    weight_decay=0.01,\n",
    "    save_total_limit=2,\n",
    "    logging_dir='./logs',\n",
    "    logging_steps=100,\n",
    "    fp16=True,  \n",
    "    gradient_accumulation_steps=4, \n",
    "    report_to=\"none\",  \n",
    ")\n",
    "\n",
    "trainer = Trainer(\n",
    "    model=model,\n",
    "    args=training_args,\n",
    "    train_dataset=train_hf_t5_2.shuffle(seed=42).select(range(1000)),\n",
    "    eval_dataset=val_hf_t5_2.shuffle(seed=42).select(range(1000)),\n",
    "    processing_class=tokenizer,\n",
    "    callbacks=[ClearMemoryCallback()],\n",
    ")\n",
    "\n",
    "trainer.train()"
   ]
  },
  {
   "cell_type": "code",
   "execution_count": 75,
   "id": "1f6ccf1a-55ba-452f-88b2-de487eb3e6e9",
   "metadata": {},
   "outputs": [
    {
     "data": {
      "text/html": [
       "\n",
       "    <div>\n",
       "      \n",
       "      <progress value='1000' max='1000' style='width:300px; height:20px; vertical-align: middle;'></progress>\n",
       "      [1000/1000 01:24]\n",
       "    </div>\n",
       "    "
      ],
      "text/plain": [
       "<IPython.core.display.HTML object>"
      ]
     },
     "metadata": {},
     "output_type": "display_data"
    }
   ],
   "source": [
    "t5_metrics = trainer.evaluate()"
   ]
  },
  {
   "cell_type": "code",
   "execution_count": 79,
   "id": "36b69b0f-6e13-4bb2-b4b4-83746559aa22",
   "metadata": {},
   "outputs": [
    {
     "name": "stdout",
     "output_type": "stream",
     "text": [
      "eval_loss : 2.9876840114593506\n",
      "eval_runtime : 84.9128\n",
      "eval_samples_per_second : 11.777\n",
      "eval_steps_per_second : 11.777\n",
      "epoch : 2.0\n"
     ]
    }
   ],
   "source": [
    "for i in t5_metrics.keys():\n",
    "    print(i,':',t5_metrics[i])"
   ]
  },
  {
   "cell_type": "code",
   "execution_count": 113,
   "id": "a1d30d34-85ca-49e8-995f-73181a38d282",
   "metadata": {},
   "outputs": [],
   "source": [
    "from transformers import T5Tokenizer, T5ForConditionalGeneration"
   ]
  },
  {
   "cell_type": "code",
   "execution_count": 123,
   "id": "96a4312c-f772-434b-ad10-6c09d9d1e470",
   "metadata": {},
   "outputs": [],
   "source": [
    "model_name = \"./t5-finetuned-multinews/checkpoint-500\"\n",
    "tokenizer = T5Tokenizer.from_pretrained(model_name)\n",
    "model = T5ForConditionalGeneration.from_pretrained(model_name)"
   ]
  },
  {
   "cell_type": "code",
   "execution_count": 135,
   "id": "a684f220-c358-4c03-ab91-fc5bbd6cda20",
   "metadata": {},
   "outputs": [],
   "source": [
    "def text_summarizer_after_ft_t5(text):\n",
    "    inputs = tokenizer(text, return_tensors=\"pt\", max_length=768, truncation=True)\n",
    "    with torch.no_grad():\n",
    "        summary_ids = model.generate(\n",
    "            inputs[\"input_ids\"],\n",
    "            attention_mask=inputs[\"attention_mask\"],\n",
    "            max_length=300,\n",
    "            min_length=50,\n",
    "            length_penalty=2.0,\n",
    "            num_beams=4,\n",
    "            early_stopping=True\n",
    "        )\n",
    "    summary = tokenizer.decode(summary_ids[0], skip_special_tokens=True)\n",
    "    return summary"
   ]
  },
  {
   "cell_type": "code",
   "execution_count": 137,
   "id": "196b8809-d1c9-4915-9555-2236251e720a",
   "metadata": {},
   "outputs": [],
   "source": [
    "sample_pred_t5 = text_summarizer_after_ft_t5(news_val_df['articles'][1])"
   ]
  },
  {
   "cell_type": "code",
   "execution_count": 138,
   "id": "21f3f2e5-824c-4589-aeb1-506124ef4f5c",
   "metadata": {},
   "outputs": [
    {
     "name": "stdout",
     "output_type": "stream",
     "text": [
      ", but the senate is still working to process more than 58,000 student aid claims. a senate bill that would prohibit schools from penalizing student veterans for late va assistance payments has been delayed or gone awol this fall for thousands of veterans and their families relying on the gi bill to get through school. the senate is expected to take this up soon, but the delay is inexcusable. a good start would be swift passage of a senate bill that would allow students with accounts in arrears due to the confluence of outdated systems to perform ever complex tasks. the va has lacked a permanent chief information officer since january, but the senate has yet to confirm that the senate is trying to fix the problem. a senate bill that would prohibit schools from penalizing student veterans for late va assistance payments, but the u.s. senate is expected to take this up soon, but the senate has not yet confirmed a permanent chief information officer, and the senate is a senate bill that would allow students with accounts in arrears due to the confluence of outdated systems being asked to perform ever complex tasks, says a major concern that students with accounts in arrears, a\n"
     ]
    }
   ],
   "source": [
    "print(sample_pred_t5)"
   ]
  },
  {
   "cell_type": "code",
   "execution_count": 139,
   "id": "ecc48bd6-f1d6-429b-a02f-f1b81782484c",
   "metadata": {},
   "outputs": [
    {
     "name": "stdout",
     "output_type": "stream",
     "text": [
      "['the deaths of three american soldiers in afghanistan this week are a tragic reminder of why its so important for the nation to keep its promises to military men and women, veterans, no matter where they served, have volunteered to put their lives on the line and some make the ultimate sacrifice. those courageous enough to go into battle should face zero delays in getting the education benefits theyve earned. unfortunately, financial aid has been late or gone awol this fall for thousands of veterans and their families relying on the gi bill to get through school. the reason: a big information-technology glitch that surfaced with what seemed like a relatively minor change in how the aid is calculated. while the u.s. department of veterans affairs va is trying to fix this, a lack of communication by the agency about the delays, coupled with inaction by the u.s. senate, has left service members-turned-students facing severe financial hardships. this week, the agency was still working to process more than 58,000 student aid claims. on wednesday, the va announced that the information technology fixes will not be completed until december 2019 more than a year past the original aug. 1 deadline for finishing this work. this is a national disgrace, one that should prompt congressional leadership to move quickly on short- and long-term solutions. a good start would be swift passage of a senate bill that would prohibit schools from penalizing student veterans for late va assistance payments. this would address a major concern that students with accounts in arrears due to delayed payments may not be allowed to enroll for 2019 coursework. given that the va has said the tech problems will continue until the end of 2019, this protection is a sensible step. the house merits praise for unanimously passing hold-students-harmless legislation, which has been dubbed the sit-rep bill. but the legislation is bogged down in the senate. if ever there was a time that it was obvious this bill needed to be passed, now is the time, said tanya ang, vice president of the veterans education success organization, in a statement provided for a nov. 15 house veterans affairs subcommittee hearing. other testimony provided at the hearing made it clear that long-term solutions are urgently needed, too. the va has lacked a permanent chief information officer since january 2017, which is unacceptable given how technology is so critical to delivering service members benefits. president donald trump nominated a well-qualified minnesota native, james gfrerer, last summer, but the senate has yet to confirm him. the senate is expected to take this up soon, but the delay is inexcusable. both houses of congress also need to scrutinize a much larger problem the antiquated it systems relied on by the va and other federal agencies. a statement provided to the house by booz allen hamilton, the private contractor originally hired to update the va system, makes clear the root of the gi bill problem: the unfortunate delay has been caused by the confluence of outdated systems being asked to perform ever complex tasks. a 2016 government accountability office report put the age of the vas benefits delivery platform at more than a half century. at that time, other agencies, such as the treasury department, also had so-called legacy systems in that age range. many use outdated software and hardware parts that are unsupported, the report warned. the gi bill delay shows how a tweak to these dated systems can be complicated and time-consuming. theres likely little appetite in congress to tackle the daunting task of modernization, but leadership is sorely needed. breaking news emails get breaking news alerts and special reports. the news and stories that matter, delivered weekday mornings. nov. 29, 2018, 1:40 am gmt updated nov. 29, 2018, 1:52 am gmt by phil mccausland for weeks, student veterans across the country have raised an alarm about delayed or incorrect gi bill benefit payments, which the department of veterans affairs has blamed on computer issues. but on wednesday, the department told congressional staffers that it would not reimburse those veterans who were paid less than they were owed, two committee aides told nbc news. the news conflicts with a promise va officials made to a house committee earlier this month that it would reimburse those veterans who received less than the full amount they were due. according to the aides, however, the va said it could not make retroactive payments without auditing its previous education claims, which it said would delay future claims. the aides asked not to be identified because they were not authorized to speak publicly. nbc news previously reported that some veterans were forced into desperate financial straits stemming from a change in calculating housing allowances under the forever gi bill, which president donald trump signed into law in july 2017. when its computers were unable to process that change, the va quickly faced a backlog of veterans claims three times higher than normal. because of those issues, the va had announced earlier on wednesday that it would delay the forever gi bill housing allowance changes until december 2019 and again promised that retroactive payments would be made to those who did not receive a correct amount. but va officials told congressional staffers in a telephone call on wednesday morning that once the system is made right next year, they will not make retroactive payments to those who were underpaid because of the housing miscalculations. \"they are essentially going to ignore the law and say that that change only goes forward from december 2019,\" one aide told nbc news. the reason the va decided that it would not make the retroactive payments is because it would have to audit all its previous education claims prior to december 2019, meaning the va would potentially have to inspect 2 million claims, the aide said. va officials said this could cause further delays in processing future claims, according to the aides, an issue that caused some veterans to suffer earlier this year. while this decision could mean the agency is flouting the law because it would not provide the correct amount of money to student veterans as required by two sections of the forever gi bill, the va told the congressional staffers that they have a legal justification that would allow them to move forward with this decision. they did not share that justification, however. when asked for comment, a va spokesman did not address the issue directly. instead he reiterated that the agency would delay paying housing allowances in accordance with the new forever gi bill until the spring term of 2020 and instead pay housing allowances based on department of defense\\'s older basic housing allowance rates. attempting to implement the law would put an enormous administrative burden for schools in which some 35,000 certifying officials would have to track retroactively and re-certify hundreds of thousands of enrollment documents, curtis cashour, the va spokesman, said over email. cashour also said that students who were overpaid because of the laws changes or because of issues in implementing the law will not be held liable for the debt. but he did not comment on those who were underpaid and rampant confusion continues to surround the issue, as it is unknown how many students have been underpaid thus far, how many more could be underpaid because of the changes to the law and how much money these veterans are owed. congressional aides described the situation as frustrating. one, who commented on the shifting answers and constant confusion stemming from va, asked, i mean, am i taking crazy pills? under secretary for benefits paul lawrence is scheduled to testify thursday morning before the house committee on veterans affairs. one of the committee aides said that members of congress will attempt to clear this issue up before they move forward with the hearing. they need to figure it out, the aide said. after blowing through the initial deadline to bring its gi bill housing stipends in line with the forever gi bill law, veterans affairs department officials said wednesday that they will not be able to implement the fix until december 2019. the big delay comes after months of technology hiccups that have plagued the agency, which failed to meet the original aug. 1 deadline to put the changes in place. these problems have contributed to a backlog of claims for veterans using the post-911 gi bill to attend school this fall, and the agency has come under fire in recent months as thousands of student veterans have had to wait longer than usual for their tuition and housing payments. redesigning the way veterans benefits administration calculates post-911 gi bill housing rates during a busy academic season was like flying a plane while building it, and that was unfair and frustrating to veterans and taxpayers. thats why we are resetting our implementation of the law for the next year to ensure we get the technology and formula right to put veterans first, va sec. robert wilkie said in a news release. in the meantime, beneficiaries receiving post 911 gi bill housing allowances will be paid at the dod basic housing allowance rate, which in many cases will be equal to or higher than their current payment. rebootcamp recommendations congressional leaders who have taken the va to task for the slow implementation said wednesday they are glad wilkie is choosing to focus on getting student veterans their payments, even if it means pushing back the deadline for the it updates to be completed. while i am disappointed that the va does not yet have an effective it system in place, i understand secretary wilkies decision to reset implementation of certain sections of the forever gi bill while improvements continue to be made, senate committee on veterans affairs chairman sen. johnny isakson, r-ga., said in a statement. right now, the vas priority must be to ensure accurate payments are sent to student veterans in a timely manner. student veterans rely on the gi bill to support themselves and their families while they are in school, and the va is responsible for keeping those payments going, even as it implements the new law. rep. phil roe, r-tenn., whose house committee on veterans affairs pressed va leaders for a new deadline in a hearing on capitol hill earlier this month, said wilkies move will ensure that monthly housing payments are made with minimal delays. both lawmakers said they would continue their efforts to hold the va accountable. close dr. hilary miller of mtsu works with veteran students on the gi bill that are affected by va technical difficulties mark zaleski and michael schwab staff sergeant robert baker and his family have been affected by va tech issues that has delayed gi bill benefits for months photo: submitted staff sgt. robert baker was so stressed about money that he made a spur of the moment decision and dropped out of all his classes. it was already october and he hadnt received his gi bill benefits for the start of his fall semester at austin peay state university in clarksville. the 30-year-old communications major and his wife, in her last semester of nursing school, are full-time students. at home, they have three young kids, ages 2 to 6. i freaked out, baker said in an interview with the usa today network - tennessee. i told them i was going to fall behind on my mortgage. i was expecting to be paid by the va, but since it wasnt happening, i needed to get to work. his wife had already picked up a second job bartending to make ends meet. theyre too young to know about the money aspect, but they know mommy is gone so much, baker said of his kids, who he watches at alone at night after a day of classes. they were feeling our stress. baker left the army this summer after 12 years in the service, including deployments to iraq in 2008 and kuwait in 2012. he was stationed in fort campbell for four years. he wanted to take advantage of his gi bill so he enrolled for classes just a month after the army discharged him. but the money never came, he said. \"we were just shocked. we were angry because we figured this would be automatic,\" baker said. \"come to find out, there were big problems going on at the va.\" there are many veterans, like baker, in tennessee and across the country who are still waiting for the department of veterans affairs to clear a backlog created after president donald trump signed the forever gi bill in 2017. while the landmark legislation expanded benefits for a new generation of veterans and their families, it didnt upgrade the vas antiquated technical capabilities to account for those changes. problems are centered within the vas office of information technology, which is tasked with implementing the change to how housing allowances are calculated, the va said. the new bill changed it so that veterans housing would be based on the schools zip code, rather that where the veteran lived. problems arose when the va attempted to stress test their outdated system, as well as a contract dispute. as a result, the va waited until july 16 to tell schools to begin enrolling students. the delay caused a backlog of claims, meaning thousands of students had to wait for their benefits just as they were headed back to school for the fall semester. post-sept. 11 military-affiliated students, particularly first-time students like baker, were mostly impacted. on nov. 14, state rep. jay reedy, r-erin, and leaders in the tennessee house and senate wrote a letter to u.s. rep. phil roe, r-johnson city, and members of the house committee on veterans affairs urging them to take immediate action. roe chairs the committee. nationally there are fewer than 1,000 veterans who have an education claim that has been pending over 60 days and less than 10,000 who have a claim thats been pending for over 30 days, as of nov. 28, according to va spokesman curt cashour. universities step in to help students but where the va failed, universities across the state have stepped up to help students. many schools are utilizing 0 percent interest loans and tuition deferment as ways to ensure student veterans receive the financial support they need continue their education. as a result, institutional funds at several schools have been heavily drawn down, creating budget concerns. baker said after he dropped his classes, he came to the realization that he would have to pay the school back for the months he\\'s already been in class. \"it was just going to hurt me more financially. i was freaking out and called admissions,\" he said. \"they said \\'it\\'s ok. we\\'ll fix it.\\'\" apsu has some 2,400 military-affiliated students on campus, according to retired brig. gen. scott brower, who joined the institution this year as its first military adviser in residence. about 960,000 in tuition was deferred by the university for students impacted by the delay, and 83 students have taken out short-term loans offered by the school, totaling 175,000, according to brower. \"we recognize this is on the va and that they will fix this problem. we\\'ve been treating it with good faith, knowing that money is not available for them right now,\" he said. \"we want to make sure we are doing everything we can so that students are continuing on their goal for degree completion.\" middle tennessee state university in murfreesboro has done the same for its students, according to hilary miller, the director of the daniels center, a resource for the nearly 1,100 veterans and military families on campus. it was terrible, she said, speaking of the delays. she said about 682 students receive post 911 benefits. buy photo middle tennessee state university veterans and military family center director, dr. hilary miller on monday, nov. 26, 2018, in murfreesboro, tenn. miller works with veteran students on the gi bill who haven\\'t received their benefits for months due to va technical difficulties. photo: mark zaleski for the tennessean miller said the school deferred their tuition and had short-term loans available for students to hold them over until their benefits had been processed. the school also had template letters for students to use with landlords explaining their situation. we asked our community members to extend grace to our veterans and that this was nothing the veterans did, she said. students reached out to say that they couldn\\'t pay for books and that it impacted their productivity in the classroom. the school contacted staff and faculty to make sure they were aware of the situation and asked if they could make copies of textbook pages in certain cases. \"we did everything we could do to make it easier, but if you\\'re not getting paid for a couple of months, there\\'s not a lot we can do to make it easier,\" miller said. va\\'s \\'alarm\\' didn\\'t go off the delays varied greatly for students at east tennessee state university in johnson city. some students were processed within 72 hours, but in many cases, students had to wait months to see any money. we were calling a month later, then two months later and the va said. we meant to get to that, said antonio banchs, the director of veterans affairs at east tennessee state. it was as if they put in an alarm clock or something,\" banchs said. \"but it never went off. as of mid-november, banchs said all of the roughly 1,000 veteran-affiliated students on campus had at last received their benefits. but it came with costs. some were put in a financial hardship, he said. especially our first-time students who went through a more rigorous process. buy photo middle tennessee state university veterans and military family center director, dr. hilary miller talks with geo science student and former united state marine corps sgt. brandon watts, 25, in her office on monday, nov. 26, 2018, in murfreesboro, tenn. miller works with veteran students on the gi bill who haven\\'t received their benefits for months due to va technical difficulties. photo: mark zaleski for the tennessean in memphis, at least one student a day for three months came in to complain about their benefits, said jeffrey jones, the coordinator of veterans education benefits for university of memphis. complaints ramped up by the end of september when students realized that the va was taking longer than expected to send them their benefits, he said. it looks as if the majority of problems has been resolved now,\" jones said. \"but, now were at then end of our term.\" the university of tennessee in knoxville reported no issues with their 455 veteran and military students, according to jayetta rogers, veteran services coordinator. vanderbilt university also said they didn\\'t hear from any of their students regarding their gi bill benefits. \"vanderbilt has a relatively small number of veteran students and we were able to submit their benefits early, in anticipation of the vas regulatory changes,\" the university said in a statement. concerns for spring semester miller, at mtsu, said that staff at the veterans center has tracked the issue since last spring and told their students in advance about possible delays. the institution also used the summer to train staff. \"we started at that time really trying to ramp up what we are doing,\" miller said. \"i think we mitigated a lot of the problem before it happened.\" ten students are left to be paid as of mid-november. miller said she is concerned that nothing has changed for the new spring semester and that the va hasn\\'t provided any clarity. \"we\\'re not really sure what\\'s going to happen. from what we are hearing, it\\'s not resolved. there\\'s not a time in which they foresee it being resolved,\" she said. \"the va keeps saying nobody has dropped out. i find that to be a very odd measurement of success,\" miller said. \"what about those who didn\\'t eat for a month? or who couldn\\'t afford housing?\" baker said he finally received his check on nov. 1. \"i was ecstatic just because i figured i still wouldn\\'t get paid \\'til spring semester,\" he said. he said 12 days after he was backpaid by the va, he enrolled for his classes for spring. \"i\\'ll stay enrolled until i can\\'t,\" he said, before being interrupted by man asking for money. \"i get that,\" baker said, handing the man some change. \"that\\'s all i\\'ve got, sir.\" yihyun jeong covers veterans and military issues for usa today network - tennessee. reach her at yjeongtennessean.com. follow her on twitter yihyun-jeong. read or share this story: https:www.tennessean.comstorynews20181128post-911-gi-bill-delay-veterans-affairs2068701002 forever gi bill - harry w. colmery veterans educational assistance act please click on the link below to find more information about each change, or you can download this fact sheet for an overview. effective immediately: changes coming: summaries reserve duty that counts toward post-911 eligibility the time that a reservist was ordered to active duty to receive authorized medical care, be medically evaluated for disability, or complete a department of defense dod health care study on or after september 11, 2001, now counts as active duty toward eligibility for the post-911 gi bill program. an individual may use this entitlement to pursue a course of education beginning on or after august 1, 2018. purple heart recipients servicemembers and honorably discharged veterans who were awarded a purple heart on or after september 11, 2001 will be entitled to post-911 gi bill benefits at the 100-percent benefit level for up to 36 months. this was effective on august 1, 2018. yellow ribbon extension to fry and purple heart recipients recipients of the fry scholarship and purple heart will be covered under the yellow ribbon program. this was effective august 1, 2018. yellow ribbon extension to active duty servicemembers active duty servicemembers may use the yellow ribbon program effective august 1, 2022. consolidation of benefit levels eliminates the 40-percent benefit level and expands the 60-percent benefit level under the post 911 gi bill program. an individual with aggregate service of 90 days but less than six months of active-duty service excluding entry and skill training now qualifies at the 50-percent benefit level. an individual with aggregate service of at least six months but less than eighteen months of active-duty service excluding entry and skill training now qualifies at the 60-percent benefit level. this removes the 40-percent benefit level. this section will take effect august 1, 2020. member serves percentage of maximum benefit payable at least 36 months 100 at least 30 continuous days on active duty and must be discharged due to service-connected disability or received a purple heart purple heart effective august 1, 2018 100 at least 30 months, but less than 36 months 90 at least 24 months, but less than 30 months 80 at least 18 months, but less than 24 months 70 at least 6 months, but less than 18 months 60 at least 90 days, but less than 06 months 50 reap eligibility credited toward post-911 gi bill program members of the reserve who established eligibility to educational assistance under the reserve educational assistance program reap before november 25, 2015, and lost it due to the sunset provision may elect to have that service credited towards the post-911 gi bill program. monthly housing based on campus student attends the majority of their classes the law requires the monthly housing allowance mha under the post-911 gi bill program to be calculated based on the zip code of the campus where the student physically attends the majority of classes, rather than the location of the institution of higher learning where the student is enrolled. this applied to the first enrollment in an educational program on or after august 1, 2018. changes to licensing and certification charges entitlement charges for licensing and certification exams and national tests under the post-911 gi bill will be prorated based on the actual amount of the fee charged for the test. assistance for students affected by school closures and certain disapprovals va is now authorized to restore benefits and provide relief to education beneficiaries affected by school closures or certain disapprovals. this means payments of educational assistance will not be charged against an entitlement of educational assistance, or counted against the total period for which a beneficiary may receive educational assistance under two or more programs, if va finds that the individual was unable to complete such course or program of study as a result of: the closure of an educational institution; or the disapproval of the course or a course that is a necessary part of that program by reason of a new law, regulation, or policy implemented after the individual enrolls. not receiving credit, or losing training time, toward completion of the program being pursued. va may treat a course of education that is disapproved under this chapter as being approved, if va determines, on a case-by-case basis, that the course was disapproved for one of the reasons stated above and continuing the course is in the best interest of the individual this provision takes effect 90 days after august 16, 2017 and applies to courses and programs of education discontinued after august 1, 2015. for courses or programs discontinued during the period beginning january 1, 2015, and ending on august 16, 2017, an individual who does not transfer credits can have all hisher entitlement restored. va may also continue awarding a monthly housing allowance stipend under the post-911 gi bill program following a permanent school closure or certain disapproval of a course of study. the changes to monthly housing allowance took effect on august 1, 2018, and apply to courses and programs of education discontinued on or after august 16, 2017. click here to find out more and apply. changes to transfer of benefits teb veterans who transferred entitlement to a dependent can now designate a new dependent if the original dependent dies before using the entitlement. dependents who received transfer of entitlement under the post-911 gi bill can transfer their entitlement to another eligible dependent if the servicemember or veteran who made the transfer subsequently dies. this law applies to deaths on or after august 1, 2009. this took effect august 1, 2018. find more information at our reallocation webpage. more benefits for science, technology, engineering and math stem programs va will provide up to nine months of additional post-911 gi bill benefits to certain eligible individuals who: have or will soon exhaust entitlement of post-911 gi bill program. apply for assistance, and are enrolled in a program of education leading to a post-secondary degree that, in accordance with the guidelines of the applicable regional or national accrediting agency, requires more than the standard 128 semester or 192 quarter credit hours for completion in a standard, undergraduate college degree in biological or biomedical science; physical science; science technologies or technicians; computer and information science and support services; mathematics or statistics; engineering; engineering technologies or an engineering-related field; a health profession or related program; a medical residency program; an agriculture science program or natural resources science program ; or other subjects and fields identified by va as meeting national needs. ; or other subjects and fields identified by va as meeting national needs. has completed at least 60 standard semester or 90 quarter credit hours in a field listed above, or has earned a post-secondary degree in one of these fields and is enrolled in a program of education leading to a teaching certification. priority would be given to individuals who are entitled to 100 percent of post-911 gi bill benefits and to those that require the most credit hours. va can pay each eligible individual the benefits for up to nine additional months, but the total may not exceed 30,000. va will not be authorized to issue any yellow ribbon payments. these additional benefits cannot be transferred to dependents. this expansion becomes effective on august 1, 2019. elimination of 15-year limitation to use the post-911 gi bill program the law removes the time limitation for the use of post-911 gi bill benefits for individuals whose last discharge or release from active duty is on or after january 1, 2013, children of deceased servicemembers who first become entitled to post-911 gi bill program benefits on or after january 1, 2013, and all fry spouses. all others remain subject to the current 15-year time limitation for using their post-911 gi bill benefits. reserve components monthly housing allowance va will prorate the monthly housing stipend also referred to as the monthly housing allowance under the post-911 gi bill for members of the reserve components of the armed forces. this change will be applicable to a quarter, semester or term that commenced on or after august 1, 2018. pilot programs for technology courses va will develop a pilot program to provide eligible veterans who are entitled to educational assistance under chapter 30, 32, 33, 34, or 35 of title 38, united states code, or chapter 1606 or 1607 of title 10, united states code, with the opportunity to enroll in high technology programs of education that va determines provide training and skills sought by employers in a relevant field or industry. this change will take effect 180 days after august 1, 2018. work study expansion the law removes the expiration date of june 30, 2022, for certain qualifying work-study activities for which an individual may be paid an additional educational assistance allowance. these activities include outreach services for an saa, providing hospital and domiciliary care and medical treatment to veterans in a state home, or performing an activity relating to the administration of a national cemetery or a state veterans\\' cemetery. changes to survivors\\' and dependents\\' educational assistance the new law decreases the amount of entitlement that new eligible individuals will receive under the survivors and dependents educational assistance dea program from 45 months to 36 months. this change applies to individuals who first enroll in programs of education on or after august 1, 2018. individuals who first enrolled in a program of education prior to august 1, 2018, would still qualify for a maximum of 45 months of entitlement. this law also increases the amount of educational assistance payable for pursuit of institutional courses and institutional courses under the survivors\\' and dependents\\' educational assistance program. an eligible person will be entitled to a monthly allowance of 1,224 for full-time coursework, 967 for three-quarter time, and 710 for half-time coursework. the increases were effective october 1, 2018. using the gi bill at technical schools and non-institutions of higher learning ihls beneficiaries will now be able to use their post-911 educational assistance to pursue accredited independent study programs at the following educational institutions that are not institutions of higher learning ihls: area career and technical education schools that provide postsecondary level education and postsecondary vocational institutions. this change went into effect august 16, 2017. priority enrollment va will improve outreach and transparency to veterans and servicemembers by providing information on whether institutions of higher learning administer a priority enrollment system that allows certain student veterans to enroll in courses earlier than other students. this change went into effect august 16, 2017. informing schools about beneficiary entitlement va must make available to educational institutions information about the amount of educational assistance to which a beneficiary is entitled under chapter 30, 32, 33, or 35. this information would be provided to the educational institution through a secure information technology system accessible by the educational institution and would be updated regularly to reflect any amounts used by the veteran or other individual. a beneficiary pursuing a course of education may elect not to provide the information to an educational institution. this section was effective on august 1, 2018. reserve component benefits the law authorizes service by guard and reserve members under 10 u.s.c 12304a and 12304b to receive post-911 gi bill benefits. an individual entitled to educational assistance as a result of this section was authorized to use such entitlement to pursue a course of education beginning on or after august 1, 2018. this applies to service in the armed forces occurring on or after june 30, 2008. gi bill monthly housing allowance individuals who first used the post-911 gi bill program on or after january 1, 2018 will receive monthly housing allowance based on dods reduced basic housing allowance bah for monthly housing rates. those that began using benefits prior to january 1, 2018 will continue to receive a higher monthly housing rate based in the non-adjusted bah rates.']\n"
     ]
    }
   ],
   "source": [
    "print(news_val_df['articles'][1])"
   ]
  },
  {
   "cell_type": "code",
   "execution_count": 140,
   "id": "52915b63-00dc-4ee9-b5a8-3ee7ea066d52",
   "metadata": {},
   "outputs": [
    {
     "name": "stdout",
     "output_type": "stream",
     "text": [
      "a major snafu has hit benefit payments to student veterans under the gi billand congressional aides tells nbc that they have been told the veterans are never going to be paid back. the aides say they were told by the department of veterans affairs that the va will not be making retroactive payments to veterans who were underpaid for their housing allowance because it would mean reviewing around 2 millions claims, further delaying implementation of a new system, which has already been pushed back to dec. 2019. under the forever gi bill signed into law by president trump last year, students are supposed to be paid housing allowance based on where they take the most classes, not on where the school's main campus is located. tanya ang, vice president of veterans education success, tells the military times that the va's excuse of retroactive payments creating too much work isn't good enough. \"that could be hundreds of dollars for some studentsper month,\" she says. \"if this was a disability benefit, this would never fly.\" the issue, which is the result of new legislation being introduced before the va's outdated computer system could handle it, has contributed to a backlog of claims that has forced some veterans facing financial hardship to abandon their studies, the tennessean reports. the agency is still working to process more than 58,000 claims, reports the star tribune. the paper's editorial board calls the delays a \"national disgrace.\" \"those courageous enough to go into battle should face zero delays in getting the education benefits theyve earned,\" they write.\n"
     ]
    }
   ],
   "source": [
    "print(news_val_df['summary'][1])"
   ]
  }
 ],
 "metadata": {
  "kernelspec": {
   "display_name": "Python 3 (ipykernel)",
   "language": "python",
   "name": "python3"
  },
  "language_info": {
   "codemirror_mode": {
    "name": "ipython",
    "version": 3
   },
   "file_extension": ".py",
   "mimetype": "text/x-python",
   "name": "python",
   "nbconvert_exporter": "python",
   "pygments_lexer": "ipython3",
   "version": "3.12.7"
  }
 },
 "nbformat": 4,
 "nbformat_minor": 5
}
